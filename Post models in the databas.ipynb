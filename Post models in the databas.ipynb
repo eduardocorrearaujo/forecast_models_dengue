{
 "cells": [
  {
   "cell_type": "code",
   "execution_count": 1,
   "id": "11602480",
   "metadata": {},
   "outputs": [],
   "source": [
    "import requests"
   ]
  },
  {
   "cell_type": "code",
   "execution_count": 2,
   "id": "ef7cb07a",
   "metadata": {},
   "outputs": [],
   "source": [
    "def post_model(\n",
    "    name: str, \n",
    "    description: str, \n",
    "    repository: str, \n",
    "    implementation_language: str, \n",
    "    mtype: str,\n",
    "    adm_level,\n",
    "    time_resolution,\n",
    "):\n",
    "    url = \"https://api.mosqlimate.org/api/registry/models/\"\n",
    "    headers = {\"X-UID-Key\": \"eduardocorrearaujo:b35a9f09-fbd2-4764-9503-d0650e50d7e1\"}\n",
    "    model = {\n",
    "        \"name\": name,\n",
    "        \"description\": description,\n",
    "        \"repository\": repository,\n",
    "        \"implementation_language\": implementation_language,\n",
    "        \"type\": mtype,\n",
    "        \"ADM_level\": adm_level,\n",
    "        \"time_resolution\": time_resolution,\n",
    "    }\n",
    "    return requests.post(url, json=model, headers=headers)\n"
   ]
  },
  {
   "cell_type": "markdown",
   "id": "e91f90cd",
   "metadata": {},
   "source": [
    "Salvando o modelo com Random Forest:"
   ]
  },
  {
   "cell_type": "code",
   "execution_count": 6,
   "id": "4e7b3df9",
   "metadata": {},
   "outputs": [],
   "source": [
    "name = 'Random Forest model with uncertainty computed with conformal prediction'\n",
    "\n",
    "description = '''In this repo, in the path /models/gbt it's implemented a random forest regressor model that \n",
    "based on the last four weeks of data (cases and climate variables), compute the cases in the fourth week ahead.\n",
    "\n",
    "The predictions for multiple times are obtained in a rolling window fashion, i.e., \n",
    "the historical data window is moved forward one week at a time, predicting the next fourth week at each step.\n",
    "\n",
    "The confidence interval of the predictions are computed using the conformal prediction.'''\n",
    "\n",
    "repository = 'https://github.com/eduardocorrearaujo/forecast_models_dengue.git'\n",
    "\n",
    "implementation_language = 'Python' \n",
    "\n",
    "mtype = 'forescast'"
   ]
  },
  {
   "cell_type": "code",
   "execution_count": 7,
   "id": "703bf751",
   "metadata": {},
   "outputs": [],
   "source": [
    "res = post_model(\n",
    "    name, \n",
    "    description, \n",
    "    repository, \n",
    "    implementation_language, \n",
    "    mtype,\n",
    "    adm_level = 2,\n",
    "    time_resolution = \"week\")"
   ]
  },
  {
   "cell_type": "code",
   "execution_count": 8,
   "id": "86c0fa1a",
   "metadata": {},
   "outputs": [
    {
     "data": {
      "text/plain": [
       "{'id': 5,\n",
       " 'name': 'Random Forest model with uncertainty computed with conformal prediction',\n",
       " 'description': \"In this repo, in the path /models/gbt it's implemented a random forest regressor model that \\nbased on the last four weeks of data (cases and climate variables), compute the cases in the fourth week ahead.\\n\\nThe predictions for multiple times are obtained in a rolling window fashion, i.e., \\nthe historical data window is moved forward one week at a time, predicting the next fourth week at each step.\\n\\nThe confidence interval of the predictions are computed using the conformal prediction.\",\n",
       " 'author': {'user': {'name': 'Eduardo Correa Araujo',\n",
       "   'username': 'eduardocorrearaujo'},\n",
       "  'institution': None},\n",
       " 'repository': 'https://github.com/eduardocorrearaujo/forecast_models_dengue.git',\n",
       " 'implementation_language': {'language': 'Python'},\n",
       " 'type': 'forescast',\n",
       " 'ADM_level': 2,\n",
       " 'time_resolution': 'week'}"
      ]
     },
     "execution_count": 8,
     "metadata": {},
     "output_type": "execute_result"
    }
   ],
   "source": [
    "res.json()"
   ]
  },
  {
   "cell_type": "markdown",
   "id": "e40e6d96",
   "metadata": {},
   "source": [
    "Salvando o modelo com Redes Neurais: "
   ]
  },
  {
   "cell_type": "code",
   "execution_count": 9,
   "id": "0874af1b",
   "metadata": {},
   "outputs": [],
   "source": [
    "name = 'Deep learning model using BI-LSTM Layers'\n",
    "\n",
    "description = '''In this repo, in the path /models/neuralnetworks it's implemented a deep learning model with three\n",
    "lstm layers (the first one is bidirectional) interspersed with dropout layers and a dense layer in the output.\n",
    "This model computes the number of new cases in the next four weeks\n",
    "based on the last four weeks of data (cases and climate variables).\n",
    "\n",
    "The confidence interval of the predictions is computed using dropout and making multiple predictions to compute\n",
    "the ci of them.'''\n",
    "\n",
    "repository = 'https://github.com/eduardocorrearaujo/forecast_models_dengue.git'\n",
    "\n",
    "implementation_language = 'Python' \n",
    "\n",
    "mtype = 'forescast'"
   ]
  },
  {
   "cell_type": "code",
   "execution_count": 10,
   "id": "7c1e8b90",
   "metadata": {},
   "outputs": [],
   "source": [
    "res = post_model(\n",
    "    name, \n",
    "    description, \n",
    "    repository, \n",
    "    implementation_language, \n",
    "    mtype,\n",
    "    adm_level = 2,\n",
    "    time_resolution = \"week\")"
   ]
  },
  {
   "cell_type": "code",
   "execution_count": 11,
   "id": "ffbb50b7",
   "metadata": {},
   "outputs": [
    {
     "data": {
      "text/plain": [
       "{'id': 6,\n",
       " 'name': 'Deep learning model using BI-LSTM Layers',\n",
       " 'description': \"In this repo, in the path /models/neuralnetworks it's implemented a deep learning model with three\\nlstm layers (the first one is bidirectional) interspersed with dropout layers and a dense layer in the output.\\nThis model computes the number of new cases in the next four weeks\\nbased on the last four weeks of data (cases and climate variables).\\n\\nThe confidence interval of the predictions is computed using dropout and making multiple predictions to compute\\nthe ci of them.\",\n",
       " 'author': {'user': {'name': 'Eduardo Correa Araujo',\n",
       "   'username': 'eduardocorrearaujo'},\n",
       "  'institution': None},\n",
       " 'repository': 'https://github.com/eduardocorrearaujo/forecast_models_dengue.git',\n",
       " 'implementation_language': {'language': 'Python'},\n",
       " 'type': 'forescast',\n",
       " 'ADM_level': 2,\n",
       " 'time_resolution': 'week'}"
      ]
     },
     "execution_count": 11,
     "metadata": {},
     "output_type": "execute_result"
    }
   ],
   "source": [
    "res.json()"
   ]
  },
  {
   "cell_type": "code",
   "execution_count": null,
   "id": "26edb031",
   "metadata": {},
   "outputs": [],
   "source": []
  }
 ],
 "metadata": {
  "kernelspec": {
   "display_name": "Python 3 (ipykernel)",
   "language": "python",
   "name": "python3"
  },
  "language_info": {
   "codemirror_mode": {
    "name": "ipython",
    "version": 3
   },
   "file_extension": ".py",
   "mimetype": "text/x-python",
   "name": "python",
   "nbconvert_exporter": "python",
   "pygments_lexer": "ipython3",
   "version": "3.10.13"
  }
 },
 "nbformat": 4,
 "nbformat_minor": 5
}
