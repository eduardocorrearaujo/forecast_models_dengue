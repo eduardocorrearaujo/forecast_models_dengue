{
 "cells": [
  {
   "cell_type": "code",
   "execution_count": 1,
   "id": "d47838dc",
   "metadata": {},
   "outputs": [],
   "source": [
    "import pickle\n",
    "import requests\n",
    "import pandas as pd"
   ]
  },
  {
   "cell_type": "code",
   "execution_count": 2,
   "id": "18ae3568",
   "metadata": {},
   "outputs": [],
   "source": [
    "def post_prediction(\n",
    "    model_id: int, \n",
    "    description: str, \n",
    "    commit: str, \n",
    "    predict_date: str, \n",
    "    predict: dict\n",
    "):\n",
    "    url = \"https://api.mosqlimate.org/api/registry/predictions/\"\n",
    "    headers = {\"X-UID-Key\": \"eduardocorrearaujo:b35a9f09-fbd2-4764-9503-d0650e50d7e1\"}\n",
    "    prediction = {\n",
    "        \"model\": model_id,\n",
    "        \"description\": description,\n",
    "        \"commit\": commit,\n",
    "        \"predict_date\": predict_date,\n",
    "        \"prediction\": predict\n",
    "    }\n",
    "    return requests.post(url, json=prediction, headers=headers)"
   ]
  },
  {
   "cell_type": "code",
   "execution_count": 3,
   "id": "3aea6b22",
   "metadata": {},
   "outputs": [],
   "source": [
    "cities = [3106200]\n",
    "\n",
    "start_geo_to_uf = { \n",
    "       42:'SC', 41:'PR', 43:'RS' ,\n",
    "       31:'MG', 32:'ES', 33:'RJ', 35:'SP', \n",
    "       50:'MS', 51:'MT', 52:'GO', 53:'DF', \n",
    "       21:'MA', 22:'PI', 23:'CE', 24:'RN', 25:'PB', 26:'PE', 27:'AL', 28:'SE', 29:'BA',\n",
    "       11:'RO', 12:'AC', 13:'AM', 14:'RR', 15:'PA', 16:'AP', 17:'TO'    \n",
    "}"
   ]
  },
  {
   "cell_type": "markdown",
   "id": "1b689edc",
   "metadata": {},
   "source": [
    "RF predictions:"
   ]
  },
  {
   "cell_type": "code",
   "execution_count": 35,
   "id": "afd67d5e",
   "metadata": {},
   "outputs": [],
   "source": [
    "def load_ml(city, label,  ini_date = '2022-01-02', end_date= '2023-06-25', doenca = 'dengue'):\n",
    "\n",
    "    data_ml = pickle.load(open(f'./models/gbt/predictions/rf_{city}_{doenca}_{label}_predictions.pkl', 'rb'))\n",
    "    \n",
    "    df_ml = pd.DataFrame()\n",
    "\n",
    "    df_ml['dates'] = data_ml['dates']\n",
    "    #df_ml['target'] = data_ml['target']\n",
    "    df_ml['preds'] = data_ml['preds']\n",
    "    df_ml['lower'] = data_ml['preds25']\n",
    "    df_ml['upper'] = data_ml['preds975']\n",
    "    \n",
    "    df_ml['adm_2'] = city\n",
    "    \n",
    "    df_ml['adm_1'] = start_geo_to_uf[int(str(city)[:2])]\n",
    "    \n",
    "    df_ml['adm_0'] = 'BR'\n",
    "    \n",
    "    #df_ml.dates = pd.to_datetime(df_ml.dates)\n",
    "\n",
    "    df_ml = df_ml.loc[(df_ml.dates >= ini_date) & (df_ml.dates <= end_date)]\n",
    "    \n",
    "    #df_ml.set_index('dates', inplace = True\n",
    "    \n",
    "    return df_ml\n"
   ]
  },
  {
   "cell_type": "code",
   "execution_count": 40,
   "id": "75f12942",
   "metadata": {},
   "outputs": [],
   "source": [
    "for c in cities: \n",
    "    \n",
    "    df =  load_ml(city = c, label = 'cluster')\n",
    "    \n",
    "    df.dates = df.dates.astype(str)\n",
    "    \n",
    "    df = df.reset_index()\n",
    "    \n",
    "    del df['index']\n",
    "    \n",
    "    model_id = 5\n",
    "    description= f'Forecast de novos casos para o geocode {c} entre 2022-01-01 e 2023-01-01 usando apenas os dados de todos as cidades clusterizadas com {c} como input'\n",
    "    commit ='d2d0a675c051c23dfad604775238cad58bbfe92f' \n",
    "    predict_date = '2023-09-14'\n",
    "    predict = df.to_json(orient = 'records', date_format = 'iso')\n",
    "    \n",
    "    res = post_prediction(\n",
    "    model_id, \n",
    "    description, \n",
    "    commit, \n",
    "    predict_date, \n",
    "    predict\n",
    "    )\n",
    "    "
   ]
  },
  {
   "cell_type": "code",
   "execution_count": 41,
   "id": "07766dbd",
   "metadata": {},
   "outputs": [
    {
     "data": {
      "text/html": [
       "<div>\n",
       "<style scoped>\n",
       "    .dataframe tbody tr th:only-of-type {\n",
       "        vertical-align: middle;\n",
       "    }\n",
       "\n",
       "    .dataframe tbody tr th {\n",
       "        vertical-align: top;\n",
       "    }\n",
       "\n",
       "    .dataframe thead th {\n",
       "        text-align: right;\n",
       "    }\n",
       "</style>\n",
       "<table border=\"1\" class=\"dataframe\">\n",
       "  <thead>\n",
       "    <tr style=\"text-align: right;\">\n",
       "      <th></th>\n",
       "      <th>dates</th>\n",
       "      <th>preds</th>\n",
       "      <th>lower</th>\n",
       "      <th>upper</th>\n",
       "      <th>adm_2</th>\n",
       "      <th>adm_1</th>\n",
       "      <th>adm_0</th>\n",
       "    </tr>\n",
       "  </thead>\n",
       "  <tbody>\n",
       "    <tr>\n",
       "      <th>0</th>\n",
       "      <td>2022-01-02</td>\n",
       "      <td>285.45</td>\n",
       "      <td>0.0</td>\n",
       "      <td>2503.790238</td>\n",
       "      <td>3106200</td>\n",
       "      <td>MG</td>\n",
       "      <td>BR</td>\n",
       "    </tr>\n",
       "    <tr>\n",
       "      <th>1</th>\n",
       "      <td>2022-01-09</td>\n",
       "      <td>251.66</td>\n",
       "      <td>0.0</td>\n",
       "      <td>2371.116917</td>\n",
       "      <td>3106200</td>\n",
       "      <td>MG</td>\n",
       "      <td>BR</td>\n",
       "    </tr>\n",
       "    <tr>\n",
       "      <th>2</th>\n",
       "      <td>2022-01-16</td>\n",
       "      <td>292.90</td>\n",
       "      <td>0.0</td>\n",
       "      <td>2384.109339</td>\n",
       "      <td>3106200</td>\n",
       "      <td>MG</td>\n",
       "      <td>BR</td>\n",
       "    </tr>\n",
       "    <tr>\n",
       "      <th>3</th>\n",
       "      <td>2022-01-23</td>\n",
       "      <td>242.63</td>\n",
       "      <td>0.0</td>\n",
       "      <td>2386.049698</td>\n",
       "      <td>3106200</td>\n",
       "      <td>MG</td>\n",
       "      <td>BR</td>\n",
       "    </tr>\n",
       "    <tr>\n",
       "      <th>4</th>\n",
       "      <td>2022-01-30</td>\n",
       "      <td>287.60</td>\n",
       "      <td>0.0</td>\n",
       "      <td>2836.654387</td>\n",
       "      <td>3106200</td>\n",
       "      <td>MG</td>\n",
       "      <td>BR</td>\n",
       "    </tr>\n",
       "    <tr>\n",
       "      <th>...</th>\n",
       "      <td>...</td>\n",
       "      <td>...</td>\n",
       "      <td>...</td>\n",
       "      <td>...</td>\n",
       "      <td>...</td>\n",
       "      <td>...</td>\n",
       "      <td>...</td>\n",
       "    </tr>\n",
       "    <tr>\n",
       "      <th>73</th>\n",
       "      <td>2023-05-28</td>\n",
       "      <td>3197.04</td>\n",
       "      <td>0.0</td>\n",
       "      <td>7286.105417</td>\n",
       "      <td>3106200</td>\n",
       "      <td>MG</td>\n",
       "      <td>BR</td>\n",
       "    </tr>\n",
       "    <tr>\n",
       "      <th>74</th>\n",
       "      <td>2023-06-04</td>\n",
       "      <td>1722.93</td>\n",
       "      <td>0.0</td>\n",
       "      <td>5724.272326</td>\n",
       "      <td>3106200</td>\n",
       "      <td>MG</td>\n",
       "      <td>BR</td>\n",
       "    </tr>\n",
       "    <tr>\n",
       "      <th>75</th>\n",
       "      <td>2023-06-11</td>\n",
       "      <td>1156.91</td>\n",
       "      <td>0.0</td>\n",
       "      <td>4357.666818</td>\n",
       "      <td>3106200</td>\n",
       "      <td>MG</td>\n",
       "      <td>BR</td>\n",
       "    </tr>\n",
       "    <tr>\n",
       "      <th>76</th>\n",
       "      <td>2023-06-18</td>\n",
       "      <td>1016.49</td>\n",
       "      <td>0.0</td>\n",
       "      <td>3621.847394</td>\n",
       "      <td>3106200</td>\n",
       "      <td>MG</td>\n",
       "      <td>BR</td>\n",
       "    </tr>\n",
       "    <tr>\n",
       "      <th>77</th>\n",
       "      <td>2023-06-25</td>\n",
       "      <td>668.40</td>\n",
       "      <td>0.0</td>\n",
       "      <td>3344.149112</td>\n",
       "      <td>3106200</td>\n",
       "      <td>MG</td>\n",
       "      <td>BR</td>\n",
       "    </tr>\n",
       "  </tbody>\n",
       "</table>\n",
       "<p>78 rows × 7 columns</p>\n",
       "</div>"
      ],
      "text/plain": [
       "         dates    preds  lower        upper    adm_2 adm_1 adm_0\n",
       "0   2022-01-02   285.45    0.0  2503.790238  3106200    MG    BR\n",
       "1   2022-01-09   251.66    0.0  2371.116917  3106200    MG    BR\n",
       "2   2022-01-16   292.90    0.0  2384.109339  3106200    MG    BR\n",
       "3   2022-01-23   242.63    0.0  2386.049698  3106200    MG    BR\n",
       "4   2022-01-30   287.60    0.0  2836.654387  3106200    MG    BR\n",
       "..         ...      ...    ...          ...      ...   ...   ...\n",
       "73  2023-05-28  3197.04    0.0  7286.105417  3106200    MG    BR\n",
       "74  2023-06-04  1722.93    0.0  5724.272326  3106200    MG    BR\n",
       "75  2023-06-11  1156.91    0.0  4357.666818  3106200    MG    BR\n",
       "76  2023-06-18  1016.49    0.0  3621.847394  3106200    MG    BR\n",
       "77  2023-06-25   668.40    0.0  3344.149112  3106200    MG    BR\n",
       "\n",
       "[78 rows x 7 columns]"
      ]
     },
     "execution_count": 41,
     "metadata": {},
     "output_type": "execute_result"
    }
   ],
   "source": [
    "df"
   ]
  },
  {
   "cell_type": "code",
   "execution_count": 42,
   "id": "ada24f02",
   "metadata": {},
   "outputs": [
    {
     "data": {
      "text/plain": [
       "dates     object\n",
       "preds    float64\n",
       "lower    float64\n",
       "upper    float64\n",
       "adm_2      int64\n",
       "adm_1     object\n",
       "adm_0     object\n",
       "dtype: object"
      ]
     },
     "execution_count": 42,
     "metadata": {},
     "output_type": "execute_result"
    }
   ],
   "source": [
    "df.dtypes"
   ]
  },
  {
   "cell_type": "code",
   "execution_count": 43,
   "id": "ceb6a836",
   "metadata": {},
   "outputs": [
    {
     "data": {
      "text/html": [
       "<div>\n",
       "<style scoped>\n",
       "    .dataframe tbody tr th:only-of-type {\n",
       "        vertical-align: middle;\n",
       "    }\n",
       "\n",
       "    .dataframe tbody tr th {\n",
       "        vertical-align: top;\n",
       "    }\n",
       "\n",
       "    .dataframe thead th {\n",
       "        text-align: right;\n",
       "    }\n",
       "</style>\n",
       "<table border=\"1\" class=\"dataframe\">\n",
       "  <thead>\n",
       "    <tr style=\"text-align: right;\">\n",
       "      <th></th>\n",
       "      <th>dates</th>\n",
       "      <th>preds</th>\n",
       "      <th>lower</th>\n",
       "      <th>upper</th>\n",
       "      <th>adm_2</th>\n",
       "      <th>adm_1</th>\n",
       "      <th>adm_0</th>\n",
       "    </tr>\n",
       "  </thead>\n",
       "  <tbody>\n",
       "  </tbody>\n",
       "</table>\n",
       "</div>"
      ],
      "text/plain": [
       "Empty DataFrame\n",
       "Columns: [dates, preds, lower, upper, adm_2, adm_1, adm_0]\n",
       "Index: []"
      ]
     },
     "execution_count": 43,
     "metadata": {},
     "output_type": "execute_result"
    }
   ],
   "source": [
    "df.loc[df.preds.isna() == True]"
   ]
  },
  {
   "cell_type": "code",
   "execution_count": 44,
   "id": "7264b6b0",
   "metadata": {},
   "outputs": [
    {
     "data": {
      "text/plain": [
       "'{\"id\": 74, \"model\": {\"id\": 5, \"name\": \"Random Forest model with uncertainty computed with conformal prediction\", \"description\": \"In this repo, in the path /models/gbt it\\'s implemented a random forest regressor model that \\\\r\\\\nbased on the last four weeks of data (cases and climate variables), compute the cases in the fourth week ahead.\\\\r\\\\n\\\\r\\\\nThe predictions for multiple times are obtained in a rolling window fashion, i.e., \\\\r\\\\nthe historical data window is moved forward one week at a time, predicting the next fourth week at each step.\\\\r\\\\n\\\\r\\\\nThe confidence interval of the predictions are computed using the conformal prediction.\", \"author\": {\"user\": {\"name\": \"Eduardo Correa Araujo\", \"username\": \"eduardocorrearaujo\"}, \"institution\": null}, \"repository\": \"https://github.com/eduardocorrearaujo/forecast_models_dengue.git\", \"implementation_language\": {\"language\": \"Python\"}, \"disease\": \"dengue\", \"type\": \"time\", \"ADM_level\": 2, \"time_resolution\": \"week\"}, \"description\": \"Forecast de novos casos para o geocode 3106200 entre 2022-01-01 e 2023-01-01 usando apenas os dados de todos as cidades clusterizadas com 3106200 como input\", \"commit\": \"d2d0a675c051c23dfad604775238cad58bbfe92f\", \"predict_date\": \"2023-09-14\", \"prediction\": \"[{\\\\\"dates\\\\\":\\\\\"2022-01-02\\\\\",\\\\\"preds\\\\\":285.45,\\\\\"lower\\\\\":0.0,\\\\\"upper\\\\\":2503.7902383749,\\\\\"adm_2\\\\\":3106200,\\\\\"adm_1\\\\\":\\\\\"MG\\\\\",\\\\\"adm_0\\\\\":\\\\\"BR\\\\\"},{\\\\\"dates\\\\\":\\\\\"2022-01-09\\\\\",\\\\\"preds\\\\\":251.66,\\\\\"lower\\\\\":0.0,\\\\\"upper\\\\\":2371.1169169774,\\\\\"adm_2\\\\\":3106200,\\\\\"adm_1\\\\\":\\\\\"MG\\\\\",\\\\\"adm_0\\\\\":\\\\\"BR\\\\\"},{\\\\\"dates\\\\\":\\\\\"2022-01-16\\\\\",\\\\\"preds\\\\\":292.9,\\\\\"lower\\\\\":0.0,\\\\\"upper\\\\\":2384.1093390226,\\\\\"adm_2\\\\\":3106200,\\\\\"adm_1\\\\\":\\\\\"MG\\\\\",\\\\\"adm_0\\\\\":\\\\\"BR\\\\\"},{\\\\\"dates\\\\\":\\\\\"2022-01-23\\\\\",\\\\\"preds\\\\\":242.63,\\\\\"lower\\\\\":0.0,\\\\\"upper\\\\\":2386.0496982385,\\\\\"adm_2\\\\\":3106200,\\\\\"adm_1\\\\\":\\\\\"MG\\\\\",\\\\\"adm_0\\\\\":\\\\\"BR\\\\\"},{\\\\\"dates\\\\\":\\\\\"2022-01-30\\\\\",\\\\\"preds\\\\\":287.6,\\\\\"lower\\\\\":0.0,\\\\\"upper\\\\\":2836.654387353,\\\\\"adm_2\\\\\":3106200,\\\\\"adm_1\\\\\":\\\\\"MG\\\\\",\\\\\"adm_0\\\\\":\\\\\"BR\\\\\"},{\\\\\"dates\\\\\":\\\\\"2022-02-06\\\\\",\\\\\"preds\\\\\":324.41,\\\\\"lower\\\\\":0.0,\\\\\"upper\\\\\":3333.1404528995,\\\\\"adm_2\\\\\":3106200,\\\\\"adm_1\\\\\":\\\\\"MG\\\\\",\\\\\"adm_0\\\\\":\\\\\"BR\\\\\"},{\\\\\"dates\\\\\":\\\\\"2022-02-13\\\\\",\\\\\"preds\\\\\":326.31,\\\\\"lower\\\\\":0.0,\\\\\"upper\\\\\":3852.8951637529,\\\\\"adm_2\\\\\":3106200,\\\\\"adm_1\\\\\":\\\\\"MG\\\\\",\\\\\"adm_0\\\\\":\\\\\"BR\\\\\"},{\\\\\"dates\\\\\":\\\\\"2022-02-20\\\\\",\\\\\"preds\\\\\":382.86,\\\\\"lower\\\\\":0.0,\\\\\"upper\\\\\":3673.4502222612,\\\\\"adm_2\\\\\":3106200,\\\\\"adm_1\\\\\":\\\\\"MG\\\\\",\\\\\"adm_0\\\\\":\\\\\"BR\\\\\"},{\\\\\"dates\\\\\":\\\\\"2022-02-27\\\\\",\\\\\"preds\\\\\":325.16,\\\\\"lower\\\\\":0.0,\\\\\"upper\\\\\":3651.1748386015,\\\\\"adm_2\\\\\":3106200,\\\\\"adm_1\\\\\":\\\\\"MG\\\\\",\\\\\"adm_0\\\\\":\\\\\"BR\\\\\"},{\\\\\"dates\\\\\":\\\\\"2022-03-06\\\\\",\\\\\"preds\\\\\":299.69,\\\\\"lower\\\\\":0.0,\\\\\"upper\\\\\":3348.0174721023,\\\\\"adm_2\\\\\":3106200,\\\\\"adm_1\\\\\":\\\\\"MG\\\\\",\\\\\"adm_0\\\\\":\\\\\"BR\\\\\"},{\\\\\"dates\\\\\":\\\\\"2022-03-13\\\\\",\\\\\"preds\\\\\":275.76,\\\\\"lower\\\\\":0.0,\\\\\"upper\\\\\":2493.1581786521,\\\\\"adm_2\\\\\":3106200,\\\\\"adm_1\\\\\":\\\\\"MG\\\\\",\\\\\"adm_0\\\\\":\\\\\"BR\\\\\"},{\\\\\"dates\\\\\":\\\\\"2022-03-20\\\\\",\\\\\"preds\\\\\":301.6,\\\\\"lower\\\\\":0.0,\\\\\"upper\\\\\":2903.92639827,\\\\\"adm_2\\\\\":3106200,\\\\\"adm_1\\\\\":\\\\\"MG\\\\\",\\\\\"adm_0\\\\\":\\\\\"BR\\\\\"},{\\\\\"dates\\\\\":\\\\\"2022-03-27\\\\\",\\\\\"preds\\\\\":288.43,\\\\\"lower\\\\\":0.0,\\\\\"upper\\\\\":2836.5411166982,\\\\\"adm_2\\\\\":3106200,\\\\\"adm_1\\\\\":\\\\\"MG\\\\\",\\\\\"adm_0\\\\\":\\\\\"BR\\\\\"},{\\\\\"dates\\\\\":\\\\\"2022-04-03\\\\\",\\\\\"preds\\\\\":401.12,\\\\\"lower\\\\\":0.0,\\\\\"upper\\\\\":2733.6099058142,\\\\\"adm_2\\\\\":3106200,\\\\\"adm_1\\\\\":\\\\\"MG\\\\\",\\\\\"adm_0\\\\\":\\\\\"BR\\\\\"},{\\\\\"dates\\\\\":\\\\\"2022-04-10\\\\\",\\\\\"preds\\\\\":397.56,\\\\\"lower\\\\\":0.0,\\\\\"upper\\\\\":2456.4255799243,\\\\\"adm_2\\\\\":3106200,\\\\\"adm_1\\\\\":\\\\\"MG\\\\\",\\\\\"adm_0\\\\\":\\\\\"BR\\\\\"},{\\\\\"dates\\\\\":\\\\\"2022-04-17\\\\\",\\\\\"preds\\\\\":534.77,\\\\\"lower\\\\\":0.0,\\\\\"upper\\\\\":1627.6633618163,\\\\\"adm_2\\\\\":3106200,\\\\\"adm_1\\\\\":\\\\\"MG\\\\\",\\\\\"adm_0\\\\\":\\\\\"BR\\\\\"},{\\\\\"dates\\\\\":\\\\\"2022-04-24\\\\\",\\\\\"preds\\\\\":658.36,\\\\\"lower\\\\\":0.0,\\\\\"upper\\\\\":1768.8936495985,\\\\\"adm_2\\\\\":3106200,\\\\\"adm_1\\\\\":\\\\\"MG\\\\\",\\\\\"adm_0\\\\\":\\\\\"BR\\\\\"},{\\\\\"dates\\\\\":\\\\\"2022-05-01\\\\\",\\\\\"preds\\\\\":601.64,\\\\\"lower\\\\\":0.0,\\\\\"upper\\\\\":1978.9325928282,\\\\\"adm_2\\\\\":3106200,\\\\\"adm_1\\\\\":\\\\\"MG\\\\\",\\\\\"adm_0\\\\\":\\\\\"BR\\\\\"},{\\\\\"dates\\\\\":\\\\\"2022-05-08\\\\\",\\\\\"preds\\\\\":385.42,\\\\\"lower\\\\\":0.0,\\\\\"upper\\\\\":1813.4830165326,\\\\\"adm_2\\\\\":3106200,\\\\\"adm_1\\\\\":\\\\\"MG\\\\\",\\\\\"adm_0\\\\\":\\\\\"BR\\\\\"},{\\\\\"dates\\\\\":\\\\\"2022-05-15\\\\\",\\\\\"preds\\\\\":299.57,\\\\\"lower\\\\\":0.0,\\\\\"upper\\\\\":1778.4167809489,\\\\\"adm_2\\\\\":3106200,\\\\\"adm_1\\\\\":\\\\\"MG\\\\\",\\\\\"adm_0\\\\\":\\\\\"BR\\\\\"},{\\\\\"dates\\\\\":\\\\\"2022-05-22\\\\\",\\\\\"preds\\\\\":485.65,\\\\\"lower\\\\\":0.0,\\\\\"upper\\\\\":1640.6142862477,\\\\\"adm_2\\\\\":3106200,\\\\\"adm_1\\\\\":\\\\\"MG\\\\\",\\\\\"adm_0\\\\\":\\\\\"BR\\\\\"},{\\\\\"dates\\\\\":\\\\\"2022-05-29\\\\\",\\\\\"preds\\\\\":576.6,\\\\\"lower\\\\\":0.0,\\\\\"upper\\\\\":2471.8457427226,\\\\\"adm_2\\\\\":3106200,\\\\\"adm_1\\\\\":\\\\\"MG\\\\\",\\\\\"adm_0\\\\\":\\\\\"BR\\\\\"},{\\\\\"dates\\\\\":\\\\\"2022-06-05\\\\\",\\\\\"preds\\\\\":809.49,\\\\\"lower\\\\\":0.0,\\\\\"upper\\\\\":3021.0438240767,\\\\\"adm_2\\\\\":3106200,\\\\\"adm_1\\\\\":\\\\\"MG\\\\\",\\\\\"adm_0\\\\\":\\\\\"BR\\\\\"},{\\\\\"dates\\\\\":\\\\\"2022-06-12\\\\\",\\\\\"preds\\\\\":401.56,\\\\\"lower\\\\\":0.0,\\\\\"upper\\\\\":2738.3365771736,\\\\\"adm_2\\\\\":3106200,\\\\\"adm_1\\\\\":\\\\\"MG\\\\\",\\\\\"adm_0\\\\\":\\\\\"BR\\\\\"},{\\\\\"dates\\\\\":\\\\\"2022-06-19\\\\\",\\\\\"preds\\\\\":355.19,\\\\\"lower\\\\\":0.0,\\\\\"upper\\\\\":3212.2676144142,\\\\\"adm_2\\\\\":3106200,\\\\\"adm_1\\\\\":\\\\\"MG\\\\\",\\\\\"adm_0\\\\\":\\\\\"BR\\\\\"},{\\\\\"dates\\\\\":\\\\\"2022-06-26\\\\\",\\\\\"preds\\\\\":195.36,\\\\\"lower\\\\\":0.0,\\\\\"upper\\\\\":3211.8035452767,\\\\\"adm_2\\\\\":3106200,\\\\\"adm_1\\\\\":\\\\\"MG\\\\\",\\\\\"adm_0\\\\\":\\\\\"BR\\\\\"},{\\\\\"dates\\\\\":\\\\\"2022-07-03\\\\\",\\\\\"preds\\\\\":230.18,\\\\\"lower\\\\\":0.0,\\\\\"upper\\\\\":2438.183371828,\\\\\"adm_2\\\\\":3106200,\\\\\"adm_1\\\\\":\\\\\"MG\\\\\",\\\\\"adm_0\\\\\":\\\\\"BR\\\\\"},{\\\\\"dates\\\\\":\\\\\"2022-07-10\\\\\",\\\\\"preds\\\\\":184.5,\\\\\"lower\\\\\":0.0,\\\\\"upper\\\\\":2137.1696744366,\\\\\"adm_2\\\\\":3106200,\\\\\"adm_1\\\\\":\\\\\"MG\\\\\",\\\\\"adm_0\\\\\":\\\\\"BR\\\\\"},{\\\\\"dates\\\\\":\\\\\"2022-07-17\\\\\",\\\\\"preds\\\\\":194.43,\\\\\"lower\\\\\":0.0,\\\\\"upper\\\\\":1898.1414529594,\\\\\"adm_2\\\\\":3106200,\\\\\"adm_1\\\\\":\\\\\"MG\\\\\",\\\\\"adm_0\\\\\":\\\\\"BR\\\\\"},{\\\\\"dates\\\\\":\\\\\"2022-07-24\\\\\",\\\\\"preds\\\\\":169.45,\\\\\"lower\\\\\":0.0,\\\\\"upper\\\\\":1323.2102308818,\\\\\"adm_2\\\\\":3106200,\\\\\"adm_1\\\\\":\\\\\"MG\\\\\",\\\\\"adm_0\\\\\":\\\\\"BR\\\\\"},{\\\\\"dates\\\\\":\\\\\"2022-07-31\\\\\",\\\\\"preds\\\\\":165.06,\\\\\"lower\\\\\":0.0,\\\\\"upper\\\\\":1261.710587013,\\\\\"adm_2\\\\\":3106200,\\\\\"adm_1\\\\\":\\\\\"MG\\\\\",\\\\\"adm_0\\\\\":\\\\\"BR\\\\\"},{\\\\\"dates\\\\\":\\\\\"2022-08-07\\\\\",\\\\\"preds\\\\\":156.72,\\\\\"lower\\\\\":0.0,\\\\\"upper\\\\\":912.5847812522,\\\\\"adm_2\\\\\":3106200,\\\\\"adm_1\\\\\":\\\\\"MG\\\\\",\\\\\"adm_0\\\\\":\\\\\"BR\\\\\"},{\\\\\"dates\\\\\":\\\\\"2022-08-14\\\\\",\\\\\"preds\\\\\":150.82,\\\\\"lower\\\\\":0.0,\\\\\"upper\\\\\":777.337120989,\\\\\"adm_2\\\\\":3106200,\\\\\"adm_1\\\\\":\\\\\"MG\\\\\",\\\\\"adm_0\\\\\":\\\\\"BR\\\\\"},{\\\\\"dates\\\\\":\\\\\"2022-08-21\\\\\",\\\\\"preds\\\\\":162.83,\\\\\"lower\\\\\":0.0,\\\\\"upper\\\\\":794.1136220335,\\\\\"adm_2\\\\\":3106200,\\\\\"adm_1\\\\\":\\\\\"MG\\\\\",\\\\\"adm_0\\\\\":\\\\\"BR\\\\\"},{\\\\\"dates\\\\\":\\\\\"2022-08-28\\\\\",\\\\\"preds\\\\\":150.83,\\\\\"lower\\\\\":0.0,\\\\\"upper\\\\\":736.8456354838,\\\\\"adm_2\\\\\":3106200,\\\\\"adm_1\\\\\":\\\\\"MG\\\\\",\\\\\"adm_0\\\\\":\\\\\"BR\\\\\"},{\\\\\"dates\\\\\":\\\\\"2022-09-04\\\\\",\\\\\"preds\\\\\":166.42,\\\\\"lower\\\\\":0.0,\\\\\"upper\\\\\":1343.8519000049,\\\\\"adm_2\\\\\":3106200,\\\\\"adm_1\\\\\":\\\\\"MG\\\\\",\\\\\"adm_0\\\\\":\\\\\"BR\\\\\"},{\\\\\"dates\\\\\":\\\\\"2022-09-11\\\\\",\\\\\"preds\\\\\":130.86,\\\\\"lower\\\\\":0.0,\\\\\"upper\\\\\":1739.2771731618,\\\\\"adm_2\\\\\":3106200,\\\\\"adm_1\\\\\":\\\\\"MG\\\\\",\\\\\"adm_0\\\\\":\\\\\"BR\\\\\"},{\\\\\"dates\\\\\":\\\\\"2022-09-18\\\\\",\\\\\"preds\\\\\":131.98,\\\\\"lower\\\\\":0.0,\\\\\"upper\\\\\":2009.432598332,\\\\\"adm_2\\\\\":3106200,\\\\\"adm_1\\\\\":\\\\\"MG\\\\\",\\\\\"adm_0\\\\\":\\\\\"BR\\\\\"},{\\\\\"dates\\\\\":\\\\\"2022-09-25\\\\\",\\\\\"preds\\\\\":134.39,\\\\\"lower\\\\\":0.0,\\\\\"upper\\\\\":1904.4070751303,\\\\\"adm_2\\\\\":3106200,\\\\\"adm_1\\\\\":\\\\\"MG\\\\\",\\\\\"adm_0\\\\\":\\\\\"BR\\\\\"},{\\\\\"dates\\\\\":\\\\\"2022-10-02\\\\\",\\\\\"preds\\\\\":131.63,\\\\\"lower\\\\\":0.0,\\\\\"upper\\\\\":1955.9841320023,\\\\\"adm_2\\\\\":3106200,\\\\\"adm_1\\\\\":\\\\\"MG\\\\\",\\\\\"adm_0\\\\\":\\\\\"BR\\\\\"},{\\\\\"dates\\\\\":\\\\\"2022-10-09\\\\\",\\\\\"preds\\\\\":169.44,\\\\\"lower\\\\\":0.0,\\\\\"upper\\\\\":2014.9766881163,\\\\\"adm_2\\\\\":3106200,\\\\\"adm_1\\\\\":\\\\\"MG\\\\\",\\\\\"adm_0\\\\\":\\\\\"BR\\\\\"},{\\\\\"dates\\\\\":\\\\\"2022-10-16\\\\\",\\\\\"preds\\\\\":153.71,\\\\\"lower\\\\\":0.0,\\\\\"upper\\\\\":1614.342991263,\\\\\"adm_2\\\\\":3106200,\\\\\"adm_1\\\\\":\\\\\"MG\\\\\",\\\\\"adm_0\\\\\":\\\\\"BR\\\\\"},{\\\\\"dates\\\\\":\\\\\"2022-10-23\\\\\",\\\\\"preds\\\\\":176.46,\\\\\"lower\\\\\":0.0,\\\\\"upper\\\\\":1821.3219404977,\\\\\"adm_2\\\\\":3106200,\\\\\"adm_1\\\\\":\\\\\"MG\\\\\",\\\\\"adm_0\\\\\":\\\\\"BR\\\\\"},{\\\\\"dates\\\\\":\\\\\"2022-10-30\\\\\",\\\\\"preds\\\\\":205.2,\\\\\"lower\\\\\":0.0,\\\\\"upper\\\\\":2408.3972521845,\\\\\"adm_2\\\\\":3106200,\\\\\"adm_1\\\\\":\\\\\"MG\\\\\",\\\\\"adm_0\\\\\":\\\\\"BR\\\\\"},{\\\\\"dates\\\\\":\\\\\"2022-11-06\\\\\",\\\\\"preds\\\\\":220.8,\\\\\"lower\\\\\":0.0,\\\\\"upper\\\\\":2949.3593593767,\\\\\"adm_2\\\\\":3106200,\\\\\"adm_1\\\\\":\\\\\"MG\\\\\",\\\\\"adm_0\\\\\":\\\\\"BR\\\\\"},{\\\\\"dates\\\\\":\\\\\"2022-11-13\\\\\",\\\\\"preds\\\\\":247.4,\\\\\"lower\\\\\":0.0,\\\\\"upper\\\\\":2228.2899944126,\\\\\"adm_2\\\\\":3106200,\\\\\"adm_1\\\\\":\\\\\"MG\\\\\",\\\\\"adm_0\\\\\":\\\\\"BR\\\\\"},{\\\\\"dates\\\\\":\\\\\"2022-11-20\\\\\",\\\\\"preds\\\\\":225.23,\\\\\"lower\\\\\":0.0,\\\\\"upper\\\\\":2898.1179410484,\\\\\"adm_2\\\\\":3106200,\\\\\"adm_1\\\\\":\\\\\"MG\\\\\",\\\\\"adm_0\\\\\":\\\\\"BR\\\\\"},{\\\\\"dates\\\\\":\\\\\"2022-11-27\\\\\",\\\\\"preds\\\\\":227.41,\\\\\"lower\\\\\":0.0,\\\\\"upper\\\\\":2300.4447217843,\\\\\"adm_2\\\\\":3106200,\\\\\"adm_1\\\\\":\\\\\"MG\\\\\",\\\\\"adm_0\\\\\":\\\\\"BR\\\\\"},{\\\\\"dates\\\\\":\\\\\"2022-12-04\\\\\",\\\\\"preds\\\\\":237.61,\\\\\"lower\\\\\":0.0,\\\\\"upper\\\\\":2484.3632584632,\\\\\"adm_2\\\\\":3106200,\\\\\"adm_1\\\\\":\\\\\"MG\\\\\",\\\\\"adm_0\\\\\":\\\\\"BR\\\\\"},{\\\\\"dates\\\\\":\\\\\"2022-12-11\\\\\",\\\\\"preds\\\\\":259.74,\\\\\"lower\\\\\":0.0,\\\\\"upper\\\\\":3046.7341089461,\\\\\"adm_2\\\\\":3106200,\\\\\"adm_1\\\\\":\\\\\"MG\\\\\",\\\\\"adm_0\\\\\":\\\\\"BR\\\\\"},{\\\\\"dates\\\\\":\\\\\"2022-12-18\\\\\",\\\\\"preds\\\\\":241.96,\\\\\"lower\\\\\":0.0,\\\\\"upper\\\\\":2627.7973770709,\\\\\"adm_2\\\\\":3106200,\\\\\"adm_1\\\\\":\\\\\"MG\\\\\",\\\\\"adm_0\\\\\":\\\\\"BR\\\\\"},{\\\\\"dates\\\\\":\\\\\"2022-12-25\\\\\",\\\\\"preds\\\\\":311.52,\\\\\"lower\\\\\":0.0,\\\\\"upper\\\\\":3000.9031053539,\\\\\"adm_2\\\\\":3106200,\\\\\"adm_1\\\\\":\\\\\"MG\\\\\",\\\\\"adm_0\\\\\":\\\\\"BR\\\\\"},{\\\\\"dates\\\\\":\\\\\"2023-01-01\\\\\",\\\\\"preds\\\\\":217.36,\\\\\"lower\\\\\":0.0,\\\\\"upper\\\\\":2514.5597918796,\\\\\"adm_2\\\\\":3106200,\\\\\"adm_1\\\\\":\\\\\"MG\\\\\",\\\\\"adm_0\\\\\":\\\\\"BR\\\\\"},{\\\\\"dates\\\\\":\\\\\"2023-01-08\\\\\",\\\\\"preds\\\\\":237.09,\\\\\"lower\\\\\":0.0,\\\\\"upper\\\\\":2446.9634928113,\\\\\"adm_2\\\\\":3106200,\\\\\"adm_1\\\\\":\\\\\"MG\\\\\",\\\\\"adm_0\\\\\":\\\\\"BR\\\\\"},{\\\\\"dates\\\\\":\\\\\"2023-01-15\\\\\",\\\\\"preds\\\\\":238.84,\\\\\"lower\\\\\":0.0,\\\\\"upper\\\\\":2333.7087032946,\\\\\"adm_2\\\\\":3106200,\\\\\"adm_1\\\\\":\\\\\"MG\\\\\",\\\\\"adm_0\\\\\":\\\\\"BR\\\\\"},{\\\\\"dates\\\\\":\\\\\"2023-01-22\\\\\",\\\\\"preds\\\\\":275.27,\\\\\"lower\\\\\":0.0,\\\\\"upper\\\\\":2449.7458725726,\\\\\"adm_2\\\\\":3106200,\\\\\"adm_1\\\\\":\\\\\"MG\\\\\",\\\\\"adm_0\\\\\":\\\\\"BR\\\\\"},{\\\\\"dates\\\\\":\\\\\"2023-01-29\\\\\",\\\\\"preds\\\\\":425.66,\\\\\"lower\\\\\":0.0,\\\\\"upper\\\\\":2348.9133573313,\\\\\"adm_2\\\\\":3106200,\\\\\"adm_1\\\\\":\\\\\"MG\\\\\",\\\\\"adm_0\\\\\":\\\\\"BR\\\\\"},{\\\\\"dates\\\\\":\\\\\"2023-02-05\\\\\",\\\\\"preds\\\\\":678.27,\\\\\"lower\\\\\":0.0,\\\\\"upper\\\\\":2534.0663631281,\\\\\"adm_2\\\\\":3106200,\\\\\"adm_1\\\\\":\\\\\"MG\\\\\",\\\\\"adm_0\\\\\":\\\\\"BR\\\\\"},{\\\\\"dates\\\\\":\\\\\"2023-02-12\\\\\",\\\\\"preds\\\\\":974.45,\\\\\"lower\\\\\":0.0,\\\\\"upper\\\\\":3333.7863453309,\\\\\"adm_2\\\\\":3106200,\\\\\"adm_1\\\\\":\\\\\"MG\\\\\",\\\\\"adm_0\\\\\":\\\\\"BR\\\\\"},{\\\\\"dates\\\\\":\\\\\"2023-02-19\\\\\",\\\\\"preds\\\\\":2332.09,\\\\\"lower\\\\\":291.5238096801,\\\\\"upper\\\\\":4372.6561903199,\\\\\"adm_2\\\\\":3106200,\\\\\"adm_1\\\\\":\\\\\"MG\\\\\",\\\\\"adm_0\\\\\":\\\\\"BR\\\\\"},{\\\\\"dates\\\\\":\\\\\"2023-02-26\\\\\",\\\\\"preds\\\\\":2622.21,\\\\\"lower\\\\\":557.35314582,\\\\\"upper\\\\\":4687.06685418,\\\\\"adm_2\\\\\":3106200,\\\\\"adm_1\\\\\":\\\\\"MG\\\\\",\\\\\"adm_0\\\\\":\\\\\"BR\\\\\"},{\\\\\"dates\\\\\":\\\\\"2023-03-05\\\\\",\\\\\"preds\\\\\":3217.3,\\\\\"lower\\\\\":1294.976837334,\\\\\"upper\\\\\":5139.623162666,\\\\\"adm_2\\\\\":3106200,\\\\\"adm_1\\\\\":\\\\\"MG\\\\\",\\\\\"adm_0\\\\\":\\\\\"BR\\\\\"},{\\\\\"dates\\\\\":\\\\\"2023-03-12\\\\\",\\\\\"preds\\\\\":2868.49,\\\\\"lower\\\\\":1728.133403576,\\\\\"upper\\\\\":4008.846596424,\\\\\"adm_2\\\\\":3106200,\\\\\"adm_1\\\\\":\\\\\"MG\\\\\",\\\\\"adm_0\\\\\":\\\\\"BR\\\\\"},{\\\\\"dates\\\\\":\\\\\"2023-03-19\\\\\",\\\\\"preds\\\\\":2649.49,\\\\\"lower\\\\\":1765.8008506828,\\\\\"upper\\\\\":3533.1791493172,\\\\\"adm_2\\\\\":3106200,\\\\\"adm_1\\\\\":\\\\\"MG\\\\\",\\\\\"adm_0\\\\\":\\\\\"BR\\\\\"},{\\\\\"dates\\\\\":\\\\\"2023-03-26\\\\\",\\\\\"preds\\\\\":3845.26,\\\\\"lower\\\\\":2964.2152838563,\\\\\"upper\\\\\":4726.3047161437,\\\\\"adm_2\\\\\":3106200,\\\\\"adm_1\\\\\":\\\\\"MG\\\\\",\\\\\"adm_0\\\\\":\\\\\"BR\\\\\"},{\\\\\"dates\\\\\":\\\\\"2023-04-02\\\\\",\\\\\"preds\\\\\":6206.9,\\\\\"lower\\\\\":5543.7985584954,\\\\\"upper\\\\\":6870.0014415046,\\\\\"adm_2\\\\\":3106200,\\\\\"adm_1\\\\\":\\\\\"MG\\\\\",\\\\\"adm_0\\\\\":\\\\\"BR\\\\\"},{\\\\\"dates\\\\\":\\\\\"2023-04-09\\\\\",\\\\\"preds\\\\\":7456.82,\\\\\"lower\\\\\":6507.6872919053,\\\\\"upper\\\\\":8405.9527080947,\\\\\"adm_2\\\\\":3106200,\\\\\"adm_1\\\\\":\\\\\"MG\\\\\",\\\\\"adm_0\\\\\":\\\\\"BR\\\\\"},{\\\\\"dates\\\\\":\\\\\"2023-04-16\\\\\",\\\\\"preds\\\\\":7112.69,\\\\\"lower\\\\\":6170.4296114906,\\\\\"upper\\\\\":8054.9503885094,\\\\\"adm_2\\\\\":3106200,\\\\\"adm_1\\\\\":\\\\\"MG\\\\\",\\\\\"adm_0\\\\\":\\\\\"BR\\\\\"},{\\\\\"dates\\\\\":\\\\\"2023-04-23\\\\\",\\\\\"preds\\\\\":9228.53,\\\\\"lower\\\\\":7849.9726482064,\\\\\"upper\\\\\":10607.0873517936,\\\\\"adm_2\\\\\":3106200,\\\\\"adm_1\\\\\":\\\\\"MG\\\\\",\\\\\"adm_0\\\\\":\\\\\"BR\\\\\"},{\\\\\"dates\\\\\":\\\\\"2023-04-30\\\\\",\\\\\"preds\\\\\":9175.65,\\\\\"lower\\\\\":7016.525525094,\\\\\"upper\\\\\":11334.774474906,\\\\\"adm_2\\\\\":3106200,\\\\\"adm_1\\\\\":\\\\\"MG\\\\\",\\\\\"adm_0\\\\\":\\\\\"BR\\\\\"},{\\\\\"dates\\\\\":\\\\\"2023-05-07\\\\\",\\\\\"preds\\\\\":5647.76,\\\\\"lower\\\\\":3241.0978567682,\\\\\"upper\\\\\":8054.4221432318,\\\\\"adm_2\\\\\":3106200,\\\\\"adm_1\\\\\":\\\\\"MG\\\\\",\\\\\"adm_0\\\\\":\\\\\"BR\\\\\"},{\\\\\"dates\\\\\":\\\\\"2023-05-14\\\\\",\\\\\"preds\\\\\":6321.04,\\\\\"lower\\\\\":3571.7085749686,\\\\\"upper\\\\\":9070.3714250314,\\\\\"adm_2\\\\\":3106200,\\\\\"adm_1\\\\\":\\\\\"MG\\\\\",\\\\\"adm_0\\\\\":\\\\\"BR\\\\\"},{\\\\\"dates\\\\\":\\\\\"2023-05-21\\\\\",\\\\\"preds\\\\\":3268.12,\\\\\"lower\\\\\":5.917465427,\\\\\"upper\\\\\":6530.322534573,\\\\\"adm_2\\\\\":3106200,\\\\\"adm_1\\\\\":\\\\\"MG\\\\\",\\\\\"adm_0\\\\\":\\\\\"BR\\\\\"},{\\\\\"dates\\\\\":\\\\\"2023-05-28\\\\\",\\\\\"preds\\\\\":3197.04,\\\\\"lower\\\\\":0.0,\\\\\"upper\\\\\":7286.1054173859,\\\\\"adm_2\\\\\":3106200,\\\\\"adm_1\\\\\":\\\\\"MG\\\\\",\\\\\"adm_0\\\\\":\\\\\"BR\\\\\"},{\\\\\"dates\\\\\":\\\\\"2023-06-04\\\\\",\\\\\"preds\\\\\":1722.93,\\\\\"lower\\\\\":0.0,\\\\\"upper\\\\\":5724.2723263983,\\\\\"adm_2\\\\\":3106200,\\\\\"adm_1\\\\\":\\\\\"MG\\\\\",\\\\\"adm_0\\\\\":\\\\\"BR\\\\\"},{\\\\\"dates\\\\\":\\\\\"2023-06-11\\\\\",\\\\\"preds\\\\\":1156.91,\\\\\"lower\\\\\":0.0,\\\\\"upper\\\\\":4357.6668180897,\\\\\"adm_2\\\\\":3106200,\\\\\"adm_1\\\\\":\\\\\"MG\\\\\",\\\\\"adm_0\\\\\":\\\\\"BR\\\\\"},{\\\\\"dates\\\\\":\\\\\"2023-06-18\\\\\",\\\\\"preds\\\\\":1016.49,\\\\\"lower\\\\\":0.0,\\\\\"upper\\\\\":3621.8473944041,\\\\\"adm_2\\\\\":3106200,\\\\\"adm_1\\\\\":\\\\\"MG\\\\\",\\\\\"adm_0\\\\\":\\\\\"BR\\\\\"},{\\\\\"dates\\\\\":\\\\\"2023-06-25\\\\\",\\\\\"preds\\\\\":668.4,\\\\\"lower\\\\\":0.0,\\\\\"upper\\\\\":3344.1491115804,\\\\\"adm_2\\\\\":3106200,\\\\\"adm_1\\\\\":\\\\\"MG\\\\\",\\\\\"adm_0\\\\\":\\\\\"BR\\\\\"}]\"}'"
      ]
     },
     "execution_count": 44,
     "metadata": {},
     "output_type": "execute_result"
    }
   ],
   "source": [
    "res.text"
   ]
  },
  {
   "cell_type": "code",
   "execution_count": 8,
   "id": "40ee7218",
   "metadata": {},
   "outputs": [
    {
     "data": {
      "text/html": [
       "<div>\n",
       "<style scoped>\n",
       "    .dataframe tbody tr th:only-of-type {\n",
       "        vertical-align: middle;\n",
       "    }\n",
       "\n",
       "    .dataframe tbody tr th {\n",
       "        vertical-align: top;\n",
       "    }\n",
       "\n",
       "    .dataframe thead th {\n",
       "        text-align: right;\n",
       "    }\n",
       "</style>\n",
       "<table border=\"1\" class=\"dataframe\">\n",
       "  <thead>\n",
       "    <tr style=\"text-align: right;\">\n",
       "      <th></th>\n",
       "      <th>dates</th>\n",
       "      <th>preds</th>\n",
       "      <th>lower</th>\n",
       "      <th>upper</th>\n",
       "      <th>adm_2</th>\n",
       "      <th>adm_1</th>\n",
       "      <th>adm_0</th>\n",
       "    </tr>\n",
       "  </thead>\n",
       "  <tbody>\n",
       "    <tr>\n",
       "      <th>616</th>\n",
       "      <td>2022-01-02</td>\n",
       "      <td>40.58</td>\n",
       "      <td>0.0</td>\n",
       "      <td>88.840328</td>\n",
       "      <td>2611606</td>\n",
       "      <td>PE</td>\n",
       "      <td>BR</td>\n",
       "    </tr>\n",
       "    <tr>\n",
       "      <th>617</th>\n",
       "      <td>2022-01-09</td>\n",
       "      <td>29.10</td>\n",
       "      <td>0.0</td>\n",
       "      <td>90.540991</td>\n",
       "      <td>2611606</td>\n",
       "      <td>PE</td>\n",
       "      <td>BR</td>\n",
       "    </tr>\n",
       "    <tr>\n",
       "      <th>618</th>\n",
       "      <td>2022-01-16</td>\n",
       "      <td>41.15</td>\n",
       "      <td>0.0</td>\n",
       "      <td>169.592928</td>\n",
       "      <td>2611606</td>\n",
       "      <td>PE</td>\n",
       "      <td>BR</td>\n",
       "    </tr>\n",
       "    <tr>\n",
       "      <th>619</th>\n",
       "      <td>2022-01-23</td>\n",
       "      <td>78.58</td>\n",
       "      <td>0.0</td>\n",
       "      <td>260.692885</td>\n",
       "      <td>2611606</td>\n",
       "      <td>PE</td>\n",
       "      <td>BR</td>\n",
       "    </tr>\n",
       "    <tr>\n",
       "      <th>620</th>\n",
       "      <td>2022-01-30</td>\n",
       "      <td>45.30</td>\n",
       "      <td>0.0</td>\n",
       "      <td>313.233028</td>\n",
       "      <td>2611606</td>\n",
       "      <td>PE</td>\n",
       "      <td>BR</td>\n",
       "    </tr>\n",
       "  </tbody>\n",
       "</table>\n",
       "</div>"
      ],
      "text/plain": [
       "         dates  preds  lower       upper    adm_2 adm_1 adm_0\n",
       "616 2022-01-02  40.58    0.0   88.840328  2611606    PE    BR\n",
       "617 2022-01-09  29.10    0.0   90.540991  2611606    PE    BR\n",
       "618 2022-01-16  41.15    0.0  169.592928  2611606    PE    BR\n",
       "619 2022-01-23  78.58    0.0  260.692885  2611606    PE    BR\n",
       "620 2022-01-30  45.30    0.0  313.233028  2611606    PE    BR"
      ]
     },
     "execution_count": 8,
     "metadata": {},
     "output_type": "execute_result"
    }
   ],
   "source": [
    "for c in cities: \n",
    "    \n",
    "    df =  load_ml(city = c, label = 'single')\n",
    "    \n",
    "    model_id = 5\n",
    "    description= f'Forecast de novos casos para o geocode {c} entre 2022-01-01 e 2023-01-01 usando apenas os dados de {c} como input'\n",
    "    commit ='d2d0a675c051c23dfad604775238cad58bbfe92f' \n",
    "    predict_date = '2023-09-14'\n",
    "    predict = df.to_json(orient = 'records', date_format = 'iso')\n",
    "    \n",
    "    res = post_prediction(\n",
    "    model_id, \n",
    "    description, \n",
    "    commit, \n",
    "    predict_date, \n",
    "    predict\n",
    "    )\n",
    "    "
   ]
  },
  {
   "cell_type": "markdown",
   "id": "319062fa",
   "metadata": {},
   "source": [
    "Saídas do modelo de deep learning "
   ]
  },
  {
   "cell_type": "code",
   "execution_count": 13,
   "id": "4a7d223e",
   "metadata": {},
   "outputs": [],
   "source": [
    "from datetime import datetime"
   ]
  },
  {
   "cell_type": "code",
   "execution_count": 14,
   "id": "f4a3fb99",
   "metadata": {},
   "outputs": [],
   "source": [
    "def load_nn(city, label, ini_date = '2022-01-02', end_date= '2023-07-02', doenca = 'dengue'):\n",
    "    \n",
    "    data_nn = pickle.load(open(f'./models/neuralnetworks/predictions/lstm_{city}_{doenca}_{label}.pkl', 'rb'))\n",
    "    \n",
    "    \n",
    "    df_nn = pd.DataFrame()\n",
    "\n",
    "    ini_index = data_nn['indice'].index(datetime.strptime(ini_date, '%Y-%m-%d'))\n",
    "    end_index = data_nn['indice'].index(datetime.strptime(end_date, '%Y-%m-%d')) + 1 \n",
    "\n",
    "    df_nn['dates'] = data_nn['indice'][ini_index:end_index]\n",
    "    #df_nn['target'] = data_nn['target'][ini_index - 7: end_index - 7, -1] * data_nn['factor']\n",
    "    df_nn['preds']  = (data_nn['pred'].iloc[ini_index - 7: end_index - 7,-1] * data_nn['factor']).values\n",
    "    df_nn['lower']  = (data_nn['lb'].iloc[ini_index - 7: end_index - 7,-1] * data_nn['factor']).values\n",
    "    df_nn['upper']  = (data_nn['ub'].iloc[ini_index - 7: end_index - 7,-1] * data_nn['factor']).values\n",
    "    \n",
    "    df_nn['adm_2'] = city\n",
    "    \n",
    "    df_nn['adm_1'] = start_geo_to_uf[int(str(city)[:2])]\n",
    "    \n",
    "    df_nn['adm_0'] = 'BR'\n",
    "    \n",
    "    #df_nn.set_index('dates', inplace = True)\n",
    "    \n",
    "    #df_nn.index = pd.to_datetime(df_nn.index)\n",
    "\n",
    "    return df_nn "
   ]
  },
  {
   "cell_type": "code",
   "execution_count": 15,
   "id": "80c9d232",
   "metadata": {},
   "outputs": [
    {
     "ename": "FileNotFoundError",
     "evalue": "[Errno 2] No such file or directory: './models/neuralnetworks/predictions/lstm_3106200_dengue_single.pkl'",
     "output_type": "error",
     "traceback": [
      "\u001b[0;31m---------------------------------------------------------------------------\u001b[0m",
      "\u001b[0;31mFileNotFoundError\u001b[0m                         Traceback (most recent call last)",
      "Cell \u001b[0;32mIn [15], line 3\u001b[0m\n\u001b[1;32m      1\u001b[0m \u001b[38;5;28;01mfor\u001b[39;00m c \u001b[38;5;129;01min\u001b[39;00m cities: \n\u001b[0;32m----> 3\u001b[0m     df \u001b[38;5;241m=\u001b[39m \u001b[43mload_nn\u001b[49m\u001b[43m(\u001b[49m\u001b[43mcity\u001b[49m\u001b[43m \u001b[49m\u001b[38;5;241;43m=\u001b[39;49m\u001b[43m \u001b[49m\u001b[43mc\u001b[49m\u001b[43m,\u001b[49m\u001b[43m \u001b[49m\u001b[43mlabel\u001b[49m\u001b[43m \u001b[49m\u001b[38;5;241;43m=\u001b[39;49m\u001b[43m \u001b[49m\u001b[38;5;124;43m'\u001b[39;49m\u001b[38;5;124;43msingle\u001b[39;49m\u001b[38;5;124;43m'\u001b[39;49m\u001b[43m)\u001b[49m\n\u001b[1;32m      5\u001b[0m     model_id \u001b[38;5;241m=\u001b[39m \u001b[38;5;241m6\u001b[39m\n\u001b[1;32m      6\u001b[0m     description\u001b[38;5;241m=\u001b[39m \u001b[38;5;124mf\u001b[39m\u001b[38;5;124m'\u001b[39m\u001b[38;5;124mForecast de novos casos para o geocode \u001b[39m\u001b[38;5;132;01m{\u001b[39;00mc\u001b[38;5;132;01m}\u001b[39;00m\u001b[38;5;124m entre 2022-01-01 e 2023-01-01 usando apenas os dados do geocode \u001b[39m\u001b[38;5;132;01m{\u001b[39;00mc\u001b[38;5;132;01m}\u001b[39;00m\u001b[38;5;124m'\u001b[39m\n",
      "Cell \u001b[0;32mIn [14], line 3\u001b[0m, in \u001b[0;36mload_nn\u001b[0;34m(city, label, ini_date, end_date, doenca)\u001b[0m\n\u001b[1;32m      1\u001b[0m \u001b[38;5;28;01mdef\u001b[39;00m \u001b[38;5;21mload_nn\u001b[39m(city, label, ini_date \u001b[38;5;241m=\u001b[39m \u001b[38;5;124m'\u001b[39m\u001b[38;5;124m2022-01-02\u001b[39m\u001b[38;5;124m'\u001b[39m, end_date\u001b[38;5;241m=\u001b[39m \u001b[38;5;124m'\u001b[39m\u001b[38;5;124m2023-07-02\u001b[39m\u001b[38;5;124m'\u001b[39m, doenca \u001b[38;5;241m=\u001b[39m \u001b[38;5;124m'\u001b[39m\u001b[38;5;124mdengue\u001b[39m\u001b[38;5;124m'\u001b[39m):\n\u001b[0;32m----> 3\u001b[0m     data_nn \u001b[38;5;241m=\u001b[39m pickle\u001b[38;5;241m.\u001b[39mload(\u001b[38;5;28;43mopen\u001b[39;49m\u001b[43m(\u001b[49m\u001b[38;5;124;43mf\u001b[39;49m\u001b[38;5;124;43m'\u001b[39;49m\u001b[38;5;124;43m./models/neuralnetworks/predictions/lstm_\u001b[39;49m\u001b[38;5;132;43;01m{\u001b[39;49;00m\u001b[43mcity\u001b[49m\u001b[38;5;132;43;01m}\u001b[39;49;00m\u001b[38;5;124;43m_\u001b[39;49m\u001b[38;5;132;43;01m{\u001b[39;49;00m\u001b[43mdoenca\u001b[49m\u001b[38;5;132;43;01m}\u001b[39;49;00m\u001b[38;5;124;43m_\u001b[39;49m\u001b[38;5;132;43;01m{\u001b[39;49;00m\u001b[43mlabel\u001b[49m\u001b[38;5;132;43;01m}\u001b[39;49;00m\u001b[38;5;124;43m.pkl\u001b[39;49m\u001b[38;5;124;43m'\u001b[39;49m\u001b[43m,\u001b[49m\u001b[43m \u001b[49m\u001b[38;5;124;43m'\u001b[39;49m\u001b[38;5;124;43mrb\u001b[39;49m\u001b[38;5;124;43m'\u001b[39;49m\u001b[43m)\u001b[49m)\n\u001b[1;32m      6\u001b[0m     df_nn \u001b[38;5;241m=\u001b[39m pd\u001b[38;5;241m.\u001b[39mDataFrame()\n\u001b[1;32m      8\u001b[0m     ini_index \u001b[38;5;241m=\u001b[39m data_nn[\u001b[38;5;124m'\u001b[39m\u001b[38;5;124mindice\u001b[39m\u001b[38;5;124m'\u001b[39m]\u001b[38;5;241m.\u001b[39mindex(datetime\u001b[38;5;241m.\u001b[39mstrptime(ini_date, \u001b[38;5;124m'\u001b[39m\u001b[38;5;124m%\u001b[39m\u001b[38;5;124mY-\u001b[39m\u001b[38;5;124m%\u001b[39m\u001b[38;5;124mm-\u001b[39m\u001b[38;5;132;01m%d\u001b[39;00m\u001b[38;5;124m'\u001b[39m))\n",
      "\u001b[0;31mFileNotFoundError\u001b[0m: [Errno 2] No such file or directory: './models/neuralnetworks/predictions/lstm_3106200_dengue_single.pkl'"
     ]
    }
   ],
   "source": [
    "\n",
    "for c in cities: \n",
    "    \n",
    "    df = load_nn(city = c, label = 'single')\n",
    "    \n",
    "    model_id = 6\n",
    "    description= f'Forecast de novos casos para o geocode {c} entre 2022-01-01 e 2023-01-01 usando apenas os dados do geocode {c}'\n",
    "    commit ='14414f63bf3b0c0b8a131577ae50167f0fb17523' \n",
    "    predict_date = '2023-09-12'\n",
    "    predict = df.to_json(orient = 'records', date_format = 'iso')\n",
    "    \n",
    "    \n",
    "    res = post_prediction(\n",
    "    model_id, \n",
    "    description, \n",
    "    commit, \n",
    "    predict_date, \n",
    "    predict\n",
    "    )\n"
   ]
  },
  {
   "cell_type": "code",
   "execution_count": 45,
   "id": "05e3abbf",
   "metadata": {},
   "outputs": [],
   "source": [
    "for c in cities: \n",
    "    \n",
    "    df = load_nn(city = c, label = 'cluster')\n",
    "    df.dates = df.dates.astype(str)\n",
    "    model_id = 6\n",
    "    description= f'Forecast de novos casos para o geocode {c} entre 2022-01-01 e 2023-01-01 usando apenas os dados do geocode e das cidades clusterizadas com ele'\n",
    "    commit ='14414f63bf3b0c0b8a131577ae50167f0fb17523' \n",
    "    predict_date = '2023-09-12'\n",
    "    predict = df.to_json(orient = 'records', date_format = 'iso')\n",
    "    \n",
    "    \n",
    "    res = post_prediction(\n",
    "    model_id, \n",
    "    description, \n",
    "    commit, \n",
    "    predict_date, \n",
    "    predict\n",
    "    )\n"
   ]
  },
  {
   "cell_type": "code",
   "execution_count": 46,
   "id": "0c88c0c1",
   "metadata": {},
   "outputs": [
    {
     "data": {
      "text/plain": [
       "'{\"id\": 75, \"model\": {\"id\": 6, \"name\": \"Deep learning model using BI-LSTM Layers\", \"description\": \"In this repo, in the path /models/neuralnetworks it\\'s implemented a deep learning model with three\\\\r\\\\nlstm layers (the first one is bidirectional) interspersed with dropout layers and a dense layer in the output.\\\\r\\\\nThis model computes the number of new cases in the next four weeks\\\\r\\\\nbased on the last four weeks of data (cases and climate variables).\\\\r\\\\n\\\\r\\\\nThe confidence interval of the predictions is computed using dropout and making multiple predictions to compute\\\\r\\\\nthe ci of them.\", \"author\": {\"user\": {\"name\": \"Eduardo Correa Araujo\", \"username\": \"eduardocorrearaujo\"}, \"institution\": null}, \"repository\": \"https://github.com/eduardocorrearaujo/forecast_models_dengue.git\", \"implementation_language\": {\"language\": \"Python\"}, \"disease\": \"dengue\", \"type\": \"time\", \"ADM_level\": 2, \"time_resolution\": \"week\"}, \"description\": \"Forecast de novos casos para o geocode 3106200 entre 2022-01-01 e 2023-01-01 usando apenas os dados do geocode e das cidades clusterizadas com ele\", \"commit\": \"14414f63bf3b0c0b8a131577ae50167f0fb17523\", \"predict_date\": \"2023-09-12\", \"prediction\": \"[{\\\\\"dates\\\\\":\\\\\"2022-01-02\\\\\",\\\\\"preds\\\\\":365.3418453634,\\\\\"lower\\\\\":0.0,\\\\\"upper\\\\\":989.4481797799,\\\\\"adm_2\\\\\":3106200,\\\\\"adm_1\\\\\":\\\\\"MG\\\\\",\\\\\"adm_0\\\\\":\\\\\"BR\\\\\"},{\\\\\"dates\\\\\":\\\\\"2022-01-09\\\\\",\\\\\"preds\\\\\":273.5906115621,\\\\\"lower\\\\\":0.0,\\\\\"upper\\\\\":887.2680517517,\\\\\"adm_2\\\\\":3106200,\\\\\"adm_1\\\\\":\\\\\"MG\\\\\",\\\\\"adm_0\\\\\":\\\\\"BR\\\\\"},{\\\\\"dates\\\\\":\\\\\"2022-01-16\\\\\",\\\\\"preds\\\\\":286.5445156693,\\\\\"lower\\\\\":0.0,\\\\\"upper\\\\\":837.287462417,\\\\\"adm_2\\\\\":3106200,\\\\\"adm_1\\\\\":\\\\\"MG\\\\\",\\\\\"adm_0\\\\\":\\\\\"BR\\\\\"},{\\\\\"dates\\\\\":\\\\\"2022-01-23\\\\\",\\\\\"preds\\\\\":48.9619452953,\\\\\"lower\\\\\":0.0,\\\\\"upper\\\\\":810.0452074781,\\\\\"adm_2\\\\\":3106200,\\\\\"adm_1\\\\\":\\\\\"MG\\\\\",\\\\\"adm_0\\\\\":\\\\\"BR\\\\\"},{\\\\\"dates\\\\\":\\\\\"2022-01-30\\\\\",\\\\\"preds\\\\\":508.0935639367,\\\\\"lower\\\\\":0.0,\\\\\"upper\\\\\":1094.523039306,\\\\\"adm_2\\\\\":3106200,\\\\\"adm_1\\\\\":\\\\\"MG\\\\\",\\\\\"adm_0\\\\\":\\\\\"BR\\\\\"},{\\\\\"dates\\\\\":\\\\\"2022-02-06\\\\\",\\\\\"preds\\\\\":609.1471284479,\\\\\"lower\\\\\":0.0,\\\\\"upper\\\\\":1601.4672364727,\\\\\"adm_2\\\\\":3106200,\\\\\"adm_1\\\\\":\\\\\"MG\\\\\",\\\\\"adm_0\\\\\":\\\\\"BR\\\\\"},{\\\\\"dates\\\\\":\\\\\"2022-02-13\\\\\",\\\\\"preds\\\\\":437.8365723714,\\\\\"lower\\\\\":0.0,\\\\\"upper\\\\\":1740.7295676693,\\\\\"adm_2\\\\\":3106200,\\\\\"adm_1\\\\\":\\\\\"MG\\\\\",\\\\\"adm_0\\\\\":\\\\\"BR\\\\\"},{\\\\\"dates\\\\\":\\\\\"2022-02-20\\\\\",\\\\\"preds\\\\\":419.8566124737,\\\\\"lower\\\\\":0.0,\\\\\"upper\\\\\":1267.0288890645,\\\\\"adm_2\\\\\":3106200,\\\\\"adm_1\\\\\":\\\\\"MG\\\\\",\\\\\"adm_0\\\\\":\\\\\"BR\\\\\"},{\\\\\"dates\\\\\":\\\\\"2022-02-27\\\\\",\\\\\"preds\\\\\":452.9681206346,\\\\\"lower\\\\\":0.0,\\\\\"upper\\\\\":1060.2910674378,\\\\\"adm_2\\\\\":3106200,\\\\\"adm_1\\\\\":\\\\\"MG\\\\\",\\\\\"adm_0\\\\\":\\\\\"BR\\\\\"},{\\\\\"dates\\\\\":\\\\\"2022-03-06\\\\\",\\\\\"preds\\\\\":171.5311225355,\\\\\"lower\\\\\":0.0,\\\\\"upper\\\\\":839.4179675579,\\\\\"adm_2\\\\\":3106200,\\\\\"adm_1\\\\\":\\\\\"MG\\\\\",\\\\\"adm_0\\\\\":\\\\\"BR\\\\\"},{\\\\\"dates\\\\\":\\\\\"2022-03-13\\\\\",\\\\\"preds\\\\\":55.9469830841,\\\\\"lower\\\\\":0.0,\\\\\"upper\\\\\":671.6901413623,\\\\\"adm_2\\\\\":3106200,\\\\\"adm_1\\\\\":\\\\\"MG\\\\\",\\\\\"adm_0\\\\\":\\\\\"BR\\\\\"},{\\\\\"dates\\\\\":\\\\\"2022-03-20\\\\\",\\\\\"preds\\\\\":191.2835940346,\\\\\"lower\\\\\":0.0,\\\\\"upper\\\\\":666.7536104053,\\\\\"adm_2\\\\\":3106200,\\\\\"adm_1\\\\\":\\\\\"MG\\\\\",\\\\\"adm_0\\\\\":\\\\\"BR\\\\\"},{\\\\\"dates\\\\\":\\\\\"2022-03-27\\\\\",\\\\\"preds\\\\\":241.8521348983,\\\\\"lower\\\\\":0.0,\\\\\"upper\\\\\":1079.038427528,\\\\\"adm_2\\\\\":3106200,\\\\\"adm_1\\\\\":\\\\\"MG\\\\\",\\\\\"adm_0\\\\\":\\\\\"BR\\\\\"},{\\\\\"dates\\\\\":\\\\\"2022-04-03\\\\\",\\\\\"preds\\\\\":387.8482086509,\\\\\"lower\\\\\":0.0,\\\\\"upper\\\\\":1164.679737667,\\\\\"adm_2\\\\\":3106200,\\\\\"adm_1\\\\\":\\\\\"MG\\\\\",\\\\\"adm_0\\\\\":\\\\\"BR\\\\\"},{\\\\\"dates\\\\\":\\\\\"2022-04-10\\\\\",\\\\\"preds\\\\\":536.4972764477,\\\\\"lower\\\\\":0.0,\\\\\"upper\\\\\":1481.4842697307,\\\\\"adm_2\\\\\":3106200,\\\\\"adm_1\\\\\":\\\\\"MG\\\\\",\\\\\"adm_0\\\\\":\\\\\"BR\\\\\"},{\\\\\"dates\\\\\":\\\\\"2022-04-17\\\\\",\\\\\"preds\\\\\":636.8442544788,\\\\\"lower\\\\\":0.0,\\\\\"upper\\\\\":1508.690273422,\\\\\"adm_2\\\\\":3106200,\\\\\"adm_1\\\\\":\\\\\"MG\\\\\",\\\\\"adm_0\\\\\":\\\\\"BR\\\\\"},{\\\\\"dates\\\\\":\\\\\"2022-04-24\\\\\",\\\\\"preds\\\\\":585.4471007138,\\\\\"lower\\\\\":0.0,\\\\\"upper\\\\\":1504.8875861563,\\\\\"adm_2\\\\\":3106200,\\\\\"adm_1\\\\\":\\\\\"MG\\\\\",\\\\\"adm_0\\\\\":\\\\\"BR\\\\\"},{\\\\\"dates\\\\\":\\\\\"2022-05-01\\\\\",\\\\\"preds\\\\\":627.7406663299,\\\\\"lower\\\\\":14.1939760752,\\\\\"upper\\\\\":1562.2998475127,\\\\\"adm_2\\\\\":3106200,\\\\\"adm_1\\\\\":\\\\\"MG\\\\\",\\\\\"adm_0\\\\\":\\\\\"BR\\\\\"},{\\\\\"dates\\\\\":\\\\\"2022-05-08\\\\\",\\\\\"preds\\\\\":419.8900133148,\\\\\"lower\\\\\":0.0,\\\\\"upper\\\\\":1153.8559669085,\\\\\"adm_2\\\\\":3106200,\\\\\"adm_1\\\\\":\\\\\"MG\\\\\",\\\\\"adm_0\\\\\":\\\\\"BR\\\\\"},{\\\\\"dates\\\\\":\\\\\"2022-05-15\\\\\",\\\\\"preds\\\\\":381.5703014284,\\\\\"lower\\\\\":0.0,\\\\\"upper\\\\\":1000.2001477983,\\\\\"adm_2\\\\\":3106200,\\\\\"adm_1\\\\\":\\\\\"MG\\\\\",\\\\\"adm_0\\\\\":\\\\\"BR\\\\\"},{\\\\\"dates\\\\\":\\\\\"2022-05-22\\\\\",\\\\\"preds\\\\\":405.940643236,\\\\\"lower\\\\\":0.0,\\\\\"upper\\\\\":1152.2010595173,\\\\\"adm_2\\\\\":3106200,\\\\\"adm_1\\\\\":\\\\\"MG\\\\\",\\\\\"adm_0\\\\\":\\\\\"BR\\\\\"},{\\\\\"dates\\\\\":\\\\\"2022-05-29\\\\\",\\\\\"preds\\\\\":565.2622923553,\\\\\"lower\\\\\":0.0,\\\\\"upper\\\\\":1204.5336937614,\\\\\"adm_2\\\\\":3106200,\\\\\"adm_1\\\\\":\\\\\"MG\\\\\",\\\\\"adm_0\\\\\":\\\\\"BR\\\\\"},{\\\\\"dates\\\\\":\\\\\"2022-06-05\\\\\",\\\\\"preds\\\\\":603.7775125131,\\\\\"lower\\\\\":0.0,\\\\\"upper\\\\\":1378.4483758822,\\\\\"adm_2\\\\\":3106200,\\\\\"adm_1\\\\\":\\\\\"MG\\\\\",\\\\\"adm_0\\\\\":\\\\\"BR\\\\\"},{\\\\\"dates\\\\\":\\\\\"2022-06-12\\\\\",\\\\\"preds\\\\\":320.382862404,\\\\\"lower\\\\\":0.0,\\\\\"upper\\\\\":882.9390941843,\\\\\"adm_2\\\\\":3106200,\\\\\"adm_1\\\\\":\\\\\"MG\\\\\",\\\\\"adm_0\\\\\":\\\\\"BR\\\\\"},{\\\\\"dates\\\\\":\\\\\"2022-06-19\\\\\",\\\\\"preds\\\\\":204.0971541554,\\\\\"lower\\\\\":0.0,\\\\\"upper\\\\\":793.465870288,\\\\\"adm_2\\\\\":3106200,\\\\\"adm_1\\\\\":\\\\\"MG\\\\\",\\\\\"adm_0\\\\\":\\\\\"BR\\\\\"},{\\\\\"dates\\\\\":\\\\\"2022-06-26\\\\\",\\\\\"preds\\\\\":117.3056883216,\\\\\"lower\\\\\":0.0,\\\\\"upper\\\\\":796.6693464652,\\\\\"adm_2\\\\\":3106200,\\\\\"adm_1\\\\\":\\\\\"MG\\\\\",\\\\\"adm_0\\\\\":\\\\\"BR\\\\\"},{\\\\\"dates\\\\\":\\\\\"2022-07-03\\\\\",\\\\\"preds\\\\\":168.7074365914,\\\\\"lower\\\\\":0.0,\\\\\"upper\\\\\":797.4934086908,\\\\\"adm_2\\\\\":3106200,\\\\\"adm_1\\\\\":\\\\\"MG\\\\\",\\\\\"adm_0\\\\\":\\\\\"BR\\\\\"},{\\\\\"dates\\\\\":\\\\\"2022-07-10\\\\\",\\\\\"preds\\\\\":38.3074094951,\\\\\"lower\\\\\":0.0,\\\\\"upper\\\\\":732.2080325678,\\\\\"adm_2\\\\\":3106200,\\\\\"adm_1\\\\\":\\\\\"MG\\\\\",\\\\\"adm_0\\\\\":\\\\\"BR\\\\\"},{\\\\\"dates\\\\\":\\\\\"2022-07-17\\\\\",\\\\\"preds\\\\\":80.7738131285,\\\\\"lower\\\\\":0.0,\\\\\"upper\\\\\":717.6527908798,\\\\\"adm_2\\\\\":3106200,\\\\\"adm_1\\\\\":\\\\\"MG\\\\\",\\\\\"adm_0\\\\\":\\\\\"BR\\\\\"},{\\\\\"dates\\\\\":\\\\\"2022-07-24\\\\\",\\\\\"preds\\\\\":0.0,\\\\\"lower\\\\\":0.0,\\\\\"upper\\\\\":613.8215141885,\\\\\"adm_2\\\\\":3106200,\\\\\"adm_1\\\\\":\\\\\"MG\\\\\",\\\\\"adm_0\\\\\":\\\\\"BR\\\\\"},{\\\\\"dates\\\\\":\\\\\"2022-07-31\\\\\",\\\\\"preds\\\\\":0.0,\\\\\"lower\\\\\":0.0,\\\\\"upper\\\\\":560.3355776183,\\\\\"adm_2\\\\\":3106200,\\\\\"adm_1\\\\\":\\\\\"MG\\\\\",\\\\\"adm_0\\\\\":\\\\\"BR\\\\\"},{\\\\\"dates\\\\\":\\\\\"2022-08-07\\\\\",\\\\\"preds\\\\\":0.0,\\\\\"lower\\\\\":0.0,\\\\\"upper\\\\\":586.7280123889,\\\\\"adm_2\\\\\":3106200,\\\\\"adm_1\\\\\":\\\\\"MG\\\\\",\\\\\"adm_0\\\\\":\\\\\"BR\\\\\"},{\\\\\"dates\\\\\":\\\\\"2022-08-14\\\\\",\\\\\"preds\\\\\":0.0,\\\\\"lower\\\\\":0.0,\\\\\"upper\\\\\":460.8975573804,\\\\\"adm_2\\\\\":3106200,\\\\\"adm_1\\\\\":\\\\\"MG\\\\\",\\\\\"adm_0\\\\\":\\\\\"BR\\\\\"},{\\\\\"dates\\\\\":\\\\\"2022-08-21\\\\\",\\\\\"preds\\\\\":0.0,\\\\\"lower\\\\\":0.0,\\\\\"upper\\\\\":476.1004549786,\\\\\"adm_2\\\\\":3106200,\\\\\"adm_1\\\\\":\\\\\"MG\\\\\",\\\\\"adm_0\\\\\":\\\\\"BR\\\\\"},{\\\\\"dates\\\\\":\\\\\"2022-08-28\\\\\",\\\\\"preds\\\\\":0.0,\\\\\"lower\\\\\":0.0,\\\\\"upper\\\\\":515.4173331056,\\\\\"adm_2\\\\\":3106200,\\\\\"adm_1\\\\\":\\\\\"MG\\\\\",\\\\\"adm_0\\\\\":\\\\\"BR\\\\\"},{\\\\\"dates\\\\\":\\\\\"2022-09-04\\\\\",\\\\\"preds\\\\\":0.0,\\\\\"lower\\\\\":0.0,\\\\\"upper\\\\\":683.2142793946,\\\\\"adm_2\\\\\":3106200,\\\\\"adm_1\\\\\":\\\\\"MG\\\\\",\\\\\"adm_0\\\\\":\\\\\"BR\\\\\"},{\\\\\"dates\\\\\":\\\\\"2022-09-11\\\\\",\\\\\"preds\\\\\":0.0,\\\\\"lower\\\\\":0.0,\\\\\"upper\\\\\":543.1813303407,\\\\\"adm_2\\\\\":3106200,\\\\\"adm_1\\\\\":\\\\\"MG\\\\\",\\\\\"adm_0\\\\\":\\\\\"BR\\\\\"},{\\\\\"dates\\\\\":\\\\\"2022-09-18\\\\\",\\\\\"preds\\\\\":28.1837808192,\\\\\"lower\\\\\":0.0,\\\\\"upper\\\\\":880.0401263718,\\\\\"adm_2\\\\\":3106200,\\\\\"adm_1\\\\\":\\\\\"MG\\\\\",\\\\\"adm_0\\\\\":\\\\\"BR\\\\\"},{\\\\\"dates\\\\\":\\\\\"2022-09-25\\\\\",\\\\\"preds\\\\\":60.7886843681,\\\\\"lower\\\\\":0.0,\\\\\"upper\\\\\":697.8608625591,\\\\\"adm_2\\\\\":3106200,\\\\\"adm_1\\\\\":\\\\\"MG\\\\\",\\\\\"adm_0\\\\\":\\\\\"BR\\\\\"},{\\\\\"dates\\\\\":\\\\\"2022-10-02\\\\\",\\\\\"preds\\\\\":4.1645559072,\\\\\"lower\\\\\":0.0,\\\\\"upper\\\\\":689.813195904,\\\\\"adm_2\\\\\":3106200,\\\\\"adm_1\\\\\":\\\\\"MG\\\\\",\\\\\"adm_0\\\\\":\\\\\"BR\\\\\"},{\\\\\"dates\\\\\":\\\\\"2022-10-09\\\\\",\\\\\"preds\\\\\":4.714687407,\\\\\"lower\\\\\":0.0,\\\\\"upper\\\\\":612.7543286011,\\\\\"adm_2\\\\\":3106200,\\\\\"adm_1\\\\\":\\\\\"MG\\\\\",\\\\\"adm_0\\\\\":\\\\\"BR\\\\\"},{\\\\\"dates\\\\\":\\\\\"2022-10-16\\\\\",\\\\\"preds\\\\\":76.5901537538,\\\\\"lower\\\\\":0.0,\\\\\"upper\\\\\":673.0300576635,\\\\\"adm_2\\\\\":3106200,\\\\\"adm_1\\\\\":\\\\\"MG\\\\\",\\\\\"adm_0\\\\\":\\\\\"BR\\\\\"},{\\\\\"dates\\\\\":\\\\\"2022-10-23\\\\\",\\\\\"preds\\\\\":206.873958014,\\\\\"lower\\\\\":0.0,\\\\\"upper\\\\\":746.7384563729,\\\\\"adm_2\\\\\":3106200,\\\\\"adm_1\\\\\":\\\\\"MG\\\\\",\\\\\"adm_0\\\\\":\\\\\"BR\\\\\"},{\\\\\"dates\\\\\":\\\\\"2022-10-30\\\\\",\\\\\"preds\\\\\":304.8114205301,\\\\\"lower\\\\\":0.0,\\\\\"upper\\\\\":992.392717826,\\\\\"adm_2\\\\\":3106200,\\\\\"adm_1\\\\\":\\\\\"MG\\\\\",\\\\\"adm_0\\\\\":\\\\\"BR\\\\\"},{\\\\\"dates\\\\\":\\\\\"2022-11-06\\\\\",\\\\\"preds\\\\\":451.5405898467,\\\\\"lower\\\\\":0.0,\\\\\"upper\\\\\":1158.3591015495,\\\\\"adm_2\\\\\":3106200,\\\\\"adm_1\\\\\":\\\\\"MG\\\\\",\\\\\"adm_0\\\\\":\\\\\"BR\\\\\"},{\\\\\"dates\\\\\":\\\\\"2022-11-13\\\\\",\\\\\"preds\\\\\":578.5305270925,\\\\\"lower\\\\\":0.0,\\\\\"upper\\\\\":1236.9240671843,\\\\\"adm_2\\\\\":3106200,\\\\\"adm_1\\\\\":\\\\\"MG\\\\\",\\\\\"adm_0\\\\\":\\\\\"BR\\\\\"},{\\\\\"dates\\\\\":\\\\\"2022-11-20\\\\\",\\\\\"preds\\\\\":257.0710392073,\\\\\"lower\\\\\":0.0,\\\\\"upper\\\\\":986.7253507737,\\\\\"adm_2\\\\\":3106200,\\\\\"adm_1\\\\\":\\\\\"MG\\\\\",\\\\\"adm_0\\\\\":\\\\\"BR\\\\\"},{\\\\\"dates\\\\\":\\\\\"2022-11-27\\\\\",\\\\\"preds\\\\\":129.3025449812,\\\\\"lower\\\\\":0.0,\\\\\"upper\\\\\":1047.1571101271,\\\\\"adm_2\\\\\":3106200,\\\\\"adm_1\\\\\":\\\\\"MG\\\\\",\\\\\"adm_0\\\\\":\\\\\"BR\\\\\"},{\\\\\"dates\\\\\":\\\\\"2022-12-04\\\\\",\\\\\"preds\\\\\":209.3559276611,\\\\\"lower\\\\\":0.0,\\\\\"upper\\\\\":729.9048813511,\\\\\"adm_2\\\\\":3106200,\\\\\"adm_1\\\\\":\\\\\"MG\\\\\",\\\\\"adm_0\\\\\":\\\\\"BR\\\\\"},{\\\\\"dates\\\\\":\\\\\"2022-12-11\\\\\",\\\\\"preds\\\\\":156.8106313199,\\\\\"lower\\\\\":0.0,\\\\\"upper\\\\\":877.7113003366,\\\\\"adm_2\\\\\":3106200,\\\\\"adm_1\\\\\":\\\\\"MG\\\\\",\\\\\"adm_0\\\\\":\\\\\"BR\\\\\"},{\\\\\"dates\\\\\":\\\\\"2022-12-18\\\\\",\\\\\"preds\\\\\":345.6793898866,\\\\\"lower\\\\\":0.0,\\\\\"upper\\\\\":1355.4023638204,\\\\\"adm_2\\\\\":3106200,\\\\\"adm_1\\\\\":\\\\\"MG\\\\\",\\\\\"adm_0\\\\\":\\\\\"BR\\\\\"},{\\\\\"dates\\\\\":\\\\\"2022-12-25\\\\\",\\\\\"preds\\\\\":511.7378526255,\\\\\"lower\\\\\":0.0,\\\\\"upper\\\\\":1216.6589184679,\\\\\"adm_2\\\\\":3106200,\\\\\"adm_1\\\\\":\\\\\"MG\\\\\",\\\\\"adm_0\\\\\":\\\\\"BR\\\\\"},{\\\\\"dates\\\\\":\\\\\"2023-01-01\\\\\",\\\\\"preds\\\\\":341.4810099602,\\\\\"lower\\\\\":0.0,\\\\\"upper\\\\\":1043.5277188178,\\\\\"adm_2\\\\\":3106200,\\\\\"adm_1\\\\\":\\\\\"MG\\\\\",\\\\\"adm_0\\\\\":\\\\\"BR\\\\\"},{\\\\\"dates\\\\\":\\\\\"2023-01-08\\\\\",\\\\\"preds\\\\\":205.0749373287,\\\\\"lower\\\\\":0.0,\\\\\"upper\\\\\":952.6877143692,\\\\\"adm_2\\\\\":3106200,\\\\\"adm_1\\\\\":\\\\\"MG\\\\\",\\\\\"adm_0\\\\\":\\\\\"BR\\\\\"},{\\\\\"dates\\\\\":\\\\\"2023-01-15\\\\\",\\\\\"preds\\\\\":164.6706804633,\\\\\"lower\\\\\":0.0,\\\\\"upper\\\\\":795.059135747,\\\\\"adm_2\\\\\":3106200,\\\\\"adm_1\\\\\":\\\\\"MG\\\\\",\\\\\"adm_0\\\\\":\\\\\"BR\\\\\"},{\\\\\"dates\\\\\":\\\\\"2023-01-22\\\\\",\\\\\"preds\\\\\":160.6303575486,\\\\\"lower\\\\\":0.0,\\\\\"upper\\\\\":829.7252671629,\\\\\"adm_2\\\\\":3106200,\\\\\"adm_1\\\\\":\\\\\"MG\\\\\",\\\\\"adm_0\\\\\":\\\\\"BR\\\\\"},{\\\\\"dates\\\\\":\\\\\"2023-01-29\\\\\",\\\\\"preds\\\\\":474.7437762916,\\\\\"lower\\\\\":0.0,\\\\\"upper\\\\\":1296.4613232985,\\\\\"adm_2\\\\\":3106200,\\\\\"adm_1\\\\\":\\\\\"MG\\\\\",\\\\\"adm_0\\\\\":\\\\\"BR\\\\\"},{\\\\\"dates\\\\\":\\\\\"2023-02-05\\\\\",\\\\\"preds\\\\\":759.9830294102,\\\\\"lower\\\\\":54.8406414337,\\\\\"upper\\\\\":2370.43211779,\\\\\"adm_2\\\\\":3106200,\\\\\"adm_1\\\\\":\\\\\"MG\\\\\",\\\\\"adm_0\\\\\":\\\\\"BR\\\\\"},{\\\\\"dates\\\\\":\\\\\"2023-02-12\\\\\",\\\\\"preds\\\\\":1287.8091150224,\\\\\"lower\\\\\":340.2579240579,\\\\\"upper\\\\\":3244.8055012971,\\\\\"adm_2\\\\\":3106200,\\\\\"adm_1\\\\\":\\\\\"MG\\\\\",\\\\\"adm_0\\\\\":\\\\\"BR\\\\\"},{\\\\\"dates\\\\\":\\\\\"2023-02-19\\\\\",\\\\\"preds\\\\\":1564.7675590813,\\\\\"lower\\\\\":399.3959328156,\\\\\"upper\\\\\":3582.8592041045,\\\\\"adm_2\\\\\":3106200,\\\\\"adm_1\\\\\":\\\\\"MG\\\\\",\\\\\"adm_0\\\\\":\\\\\"BR\\\\\"},{\\\\\"dates\\\\\":\\\\\"2023-02-26\\\\\",\\\\\"preds\\\\\":1259.3158096671,\\\\\"lower\\\\\":348.4020239286,\\\\\"upper\\\\\":3395.2923105732,\\\\\"adm_2\\\\\":3106200,\\\\\"adm_1\\\\\":\\\\\"MG\\\\\",\\\\\"adm_0\\\\\":\\\\\"BR\\\\\"},{\\\\\"dates\\\\\":\\\\\"2023-03-05\\\\\",\\\\\"preds\\\\\":1208.5637001991,\\\\\"lower\\\\\":425.4543984707,\\\\\"upper\\\\\":2473.0942909881,\\\\\"adm_2\\\\\":3106200,\\\\\"adm_1\\\\\":\\\\\"MG\\\\\",\\\\\"adm_0\\\\\":\\\\\"BR\\\\\"},{\\\\\"dates\\\\\":\\\\\"2023-03-12\\\\\",\\\\\"preds\\\\\":1411.240729183,\\\\\"lower\\\\\":575.1802534632,\\\\\"upper\\\\\":3487.0570800275,\\\\\"adm_2\\\\\":3106200,\\\\\"adm_1\\\\\":\\\\\"MG\\\\\",\\\\\"adm_0\\\\\":\\\\\"BR\\\\\"},{\\\\\"dates\\\\\":\\\\\"2023-03-19\\\\\",\\\\\"preds\\\\\":1832.7067483366,\\\\\"lower\\\\\":615.5349319942,\\\\\"upper\\\\\":4640.8120978057,\\\\\"adm_2\\\\\":3106200,\\\\\"adm_1\\\\\":\\\\\"MG\\\\\",\\\\\"adm_0\\\\\":\\\\\"BR\\\\\"},{\\\\\"dates\\\\\":\\\\\"2023-03-26\\\\\",\\\\\"preds\\\\\":2558.6185621619,\\\\\"lower\\\\\":1098.5558598779,\\\\\"upper\\\\\":6208.5199827999,\\\\\"adm_2\\\\\":3106200,\\\\\"adm_1\\\\\":\\\\\"MG\\\\\",\\\\\"adm_0\\\\\":\\\\\"BR\\\\\"},{\\\\\"dates\\\\\":\\\\\"2023-04-02\\\\\",\\\\\"preds\\\\\":4845.0277055502,\\\\\"lower\\\\\":1775.6839559004,\\\\\"upper\\\\\":9663.4645451069,\\\\\"adm_2\\\\\":3106200,\\\\\"adm_1\\\\\":\\\\\"MG\\\\\",\\\\\"adm_0\\\\\":\\\\\"BR\\\\\"},{\\\\\"dates\\\\\":\\\\\"2023-04-09\\\\\",\\\\\"preds\\\\\":5964.8797391653,\\\\\"lower\\\\\":2464.0964127228,\\\\\"upper\\\\\":9904.4718110204,\\\\\"adm_2\\\\\":3106200,\\\\\"adm_1\\\\\":\\\\\"MG\\\\\",\\\\\"adm_0\\\\\":\\\\\"BR\\\\\"},{\\\\\"dates\\\\\":\\\\\"2023-04-16\\\\\",\\\\\"preds\\\\\":8649.8082518578,\\\\\"lower\\\\\":4282.7913540781,\\\\\"upper\\\\\":12697.2753555953,\\\\\"adm_2\\\\\":3106200,\\\\\"adm_1\\\\\":\\\\\"MG\\\\\",\\\\\"adm_0\\\\\":\\\\\"BR\\\\\"},{\\\\\"dates\\\\\":\\\\\"2023-04-23\\\\\",\\\\\"preds\\\\\":9781.3404840231,\\\\\"lower\\\\\":4992.8623187751,\\\\\"upper\\\\\":14280.1706302226,\\\\\"adm_2\\\\\":3106200,\\\\\"adm_1\\\\\":\\\\\"MG\\\\\",\\\\\"adm_0\\\\\":\\\\\"BR\\\\\"},{\\\\\"dates\\\\\":\\\\\"2023-04-30\\\\\",\\\\\"preds\\\\\":9153.4215992689,\\\\\"lower\\\\\":4708.9220530808,\\\\\"upper\\\\\":14419.4077037334,\\\\\"adm_2\\\\\":3106200,\\\\\"adm_1\\\\\":\\\\\"MG\\\\\",\\\\\"adm_0\\\\\":\\\\\"BR\\\\\"},{\\\\\"dates\\\\\":\\\\\"2023-05-07\\\\\",\\\\\"preds\\\\\":10231.9438855648,\\\\\"lower\\\\\":6845.4290318877,\\\\\"upper\\\\\":13943.2974975228,\\\\\"adm_2\\\\\":3106200,\\\\\"adm_1\\\\\":\\\\\"MG\\\\\",\\\\\"adm_0\\\\\":\\\\\"BR\\\\\"},{\\\\\"dates\\\\\":\\\\\"2023-05-14\\\\\",\\\\\"preds\\\\\":9193.4068493843,\\\\\"lower\\\\\":4089.7479377389,\\\\\"upper\\\\\":12924.7802181601,\\\\\"adm_2\\\\\":3106200,\\\\\"adm_1\\\\\":\\\\\"MG\\\\\",\\\\\"adm_0\\\\\":\\\\\"BR\\\\\"},{\\\\\"dates\\\\\":\\\\\"2023-05-21\\\\\",\\\\\"preds\\\\\":4496.5025942326,\\\\\"lower\\\\\":2719.7153707683,\\\\\"upper\\\\\":8084.5462859541,\\\\\"adm_2\\\\\":3106200,\\\\\"adm_1\\\\\":\\\\\"MG\\\\\",\\\\\"adm_0\\\\\":\\\\\"BR\\\\\"},{\\\\\"dates\\\\\":\\\\\"2023-05-28\\\\\",\\\\\"preds\\\\\":3148.9009560347,\\\\\"lower\\\\\":1786.8310830727,\\\\\"upper\\\\\":6312.1269373268,\\\\\"adm_2\\\\\":3106200,\\\\\"adm_1\\\\\":\\\\\"MG\\\\\",\\\\\"adm_0\\\\\":\\\\\"BR\\\\\"},{\\\\\"dates\\\\\":\\\\\"2023-06-04\\\\\",\\\\\"preds\\\\\":1881.0834988058,\\\\\"lower\\\\\":895.8547943793,\\\\\"upper\\\\\":3786.2949551076,\\\\\"adm_2\\\\\":3106200,\\\\\"adm_1\\\\\":\\\\\"MG\\\\\",\\\\\"adm_0\\\\\":\\\\\"BR\\\\\"},{\\\\\"dates\\\\\":\\\\\"2023-06-11\\\\\",\\\\\"preds\\\\\":1145.2333478481,\\\\\"lower\\\\\":439.8709783051,\\\\\"upper\\\\\":2218.1372620448,\\\\\"adm_2\\\\\":3106200,\\\\\"adm_1\\\\\":\\\\\"MG\\\\\",\\\\\"adm_0\\\\\":\\\\\"BR\\\\\"},{\\\\\"dates\\\\\":\\\\\"2023-06-18\\\\\",\\\\\"preds\\\\\":759.8699804097,\\\\\"lower\\\\\":60.7585238621,\\\\\"upper\\\\\":1545.4586023882,\\\\\"adm_2\\\\\":3106200,\\\\\"adm_1\\\\\":\\\\\"MG\\\\\",\\\\\"adm_0\\\\\":\\\\\"BR\\\\\"},{\\\\\"dates\\\\\":\\\\\"2023-06-25\\\\\",\\\\\"preds\\\\\":285.6422093287,\\\\\"lower\\\\\":0.0,\\\\\"upper\\\\\":907.4890176542,\\\\\"adm_2\\\\\":3106200,\\\\\"adm_1\\\\\":\\\\\"MG\\\\\",\\\\\"adm_0\\\\\":\\\\\"BR\\\\\"},{\\\\\"dates\\\\\":\\\\\"2023-07-02\\\\\",\\\\\"preds\\\\\":157.9798118919,\\\\\"lower\\\\\":0.0,\\\\\"upper\\\\\":747.5347868323,\\\\\"adm_2\\\\\":3106200,\\\\\"adm_1\\\\\":\\\\\"MG\\\\\",\\\\\"adm_0\\\\\":\\\\\"BR\\\\\"}]\"}'"
      ]
     },
     "execution_count": 46,
     "metadata": {},
     "output_type": "execute_result"
    }
   ],
   "source": [
    "res.text"
   ]
  },
  {
   "cell_type": "code",
   "execution_count": null,
   "id": "cdd0cdd1",
   "metadata": {},
   "outputs": [],
   "source": []
  }
 ],
 "metadata": {
  "kernelspec": {
   "display_name": "Python 3 (ipykernel)",
   "language": "python",
   "name": "python3"
  },
  "language_info": {
   "codemirror_mode": {
    "name": "ipython",
    "version": 3
   },
   "file_extension": ".py",
   "mimetype": "text/x-python",
   "name": "python",
   "nbconvert_exporter": "python",
   "pygments_lexer": "ipython3",
   "version": "3.9.16"
  }
 },
 "nbformat": 4,
 "nbformat_minor": 5
}
